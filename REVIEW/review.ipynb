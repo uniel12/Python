{
 "cells": [
  {
   "cell_type": "markdown",
   "id": "5657d166",
   "metadata": {},
   "source": [
    "- 헷갈리는 자료형 정리\n",
    "|자료형이름|자료형의 형태|순서|중복|가변형 / 불변형|\n",
    "|:------:|:---:|:---:|:---:|:---:|\n",
    "|list|[]|O|O|가변형|.append(값)<br>.insert(인덱스,값)|리스트.[인덱스]|리스트.remove(값)<br>del 리스트[인덱스]|리스트.sort()<br>리스트.reverse()|"
   ]
  },
  {
   "cell_type": "markdown",
   "id": "c1f6f16b",
   "metadata": {},
   "source": [
    "| 데이터 구조         | 순서                 | 중복 허용 여부   | 가변성     | 추가                     | 수정                    | 삭제                    | 인덱스                   | 슬라이싱                 |\n",
    "|---------------------|----------------------|-----------------|------------|-------------------------|-------------------------|-------------------------|-------------------------|-------------------------|\n",
    "| 리스트              | O                   | 허용            | 가변       | `.append()`, `.extend()`| 인덱스: `my_list[i] = new_value` | `.remove()`, `.pop()`, `del` | 인덱스: `my_list[i]`   | `my_list[start:end]`   |\n",
    "| 튜플                | O                   | 허용            | 불변       | 추가 불가능             | 수정 불가능             | 삭제 불가능             | 인덱스: `my_tuple[i]`  | `my_tuple[start:end]` |\n",
    "| 딕셔너리 (dict)     | O (Python 3.7+), X (Python 3.6 이하) | 허용하지 않음 | 가변 | `my_dict[key] = value`  | `my_dict[key] = new_value` | `del my_dict[key]`     | 키: `my_dict[key]`   | 삭제 불가능          |\n",
    "| 집합 (set)          | X                   | 허용하지 않음  | 가변       | `.add()`, `.update()`   | 수정 불가능             | `.remove()`, `.discard()`, `del` | 삭제 불가능          | 삭제 불가능          |\n",
    "| numpy.ndarray      | O                   | 허용            | 가변       | `.append()`, `.concatenate()`| 인덱스: `my_array[i] = new_value` | `.delete()`, `np.delete()`| 인덱스: `my_array[i]` | `my_array[start:end]` |\n",
    "| pandas.Series      | O                   | 허용            | 가변       | `.loc[]`, `.iloc[]`     | 인덱스: `my_series[i] = new_value` | `.drop()`, `.pop()`, `del` | 인덱스: `.loc[i]`, `.iloc[i]` | `.loc[start:end]`, `.iloc[start:end]` |\n",
    "| pandas.DataFrame   | O (행), X (열)       | 허용            | 가변 | `.loc[]`, `.iloc[]`, `.insert()` | 인덱스/열: `my_df.loc[i, col] = new_value` | `.drop()`, `.pop()`, `del` | 인덱스/열: `.loc[i, col]`, `.iloc[i, col]` | `.loc[start:end]`, `.iloc[start:end]` |"
   ]
  },
  {
   "cell_type": "markdown",
   "id": "109dace3",
   "metadata": {},
   "source": [
    "| 데이터 구조         | 순서                 | 중복 허용 여부   | 가변성     | 추가하기                     | 수정                  | 삭제                  | 인덱싱                  | 슬라이싱               |\n",
    "|:---------------------:|:----------------------:|:-----------------:|:------------:|:-----------------------------:|:--------------------------:|:--------------------------:|:--------------------------:|:--------------------------:|\n",
    "| 리스트              | 순서O        | 허용O            | 가변       | `.append()`, `.extend()`  | 인덱스: `my_list[i] = new_value` | `.remove()`, `.pop()`, `del` | 인덱스: `my_list[i]`      | `my_list[start:end]`    |\n",
    "| 튜플                | 순서O         | 허용O           | 불변       | 불가능                    | 불가능                   | 불가능                   | 인덱스: `my_tuple[i]`     | `my_tuple[start:end]`   |\n",
    "| 딕셔너리 (dict)     | 순서O| 허용X | 가변 | `my_dict[key] = value`       | `my_dict[key] = new_value`  | `del my_dict[key]`          | 키: `my_dict[key]`        | 불가능                  |\n",
    "| 집합 (set)          | 순서 O            | 허용X  | 가변       | `.add()`, `.update()`      | 불가능                   | `.remove()`, `.discard()`, `del` | 불가능                   | 불가능                  |\n",
    "| numpy.ndarray      | 순서O         | 허용X            | 가변       | `.append()`, `.concatenate()` | 인덱스: `my_array[i] = new_value` | `.delete()`, `np.delete()` | 인덱스: `my_array[i]`     | `my_array[start:end]`   |\n",
    "| pandas.Series      | 순서O         | 허용O            | 가변       | `.loc[]`, `.iloc[]`       | 인덱스: `my_series[i] = new_value` | `.drop()`, `.pop()`, `del` | 인덱스: `.loc[i]`, `.iloc[i]` | `.loc[start:end]`, `.iloc[start:end]` |\n",
    "| pandas.DataFrame   | 순서O (행), 순서X (열) | 허용O        | 가변 | `.loc[]`, `.iloc[]`, `.insert()` | 인덱스/열: `my_df.loc[i, col] = new_value` | `.drop()`, `.pop()`, `del` | 인덱스/열: `.loc[i, col]`, `.iloc[i, col]` | `.loc[start:end]`, `.iloc[start:end]` |"
   ]
  },
  {
   "cell_type": "markdown",
   "id": "abfaba08",
   "metadata": {},
   "source": [
    "| 데이터 구조         | 순서                 | 중복 허용 여부   | 가변성     | 추가                     | 수정                  | 삭제                  | 인덱싱                  | 슬라이싱               |\n",
    "|:---------------------:|:----------------------:|:-----------------:|:------------:|:-----------------------------:|:--------------------------:|:--------------------------:|:--------------------------:|:--------------------------:|\n",
    "| 리스트              | 순서O        | 허용O            | 가변       | .append(값), .insert(인덱스,값)  | my_list[i] = new_value | .remove(), .pop(), del 리스트명[인덱스] | 인덱스: my_list[i]      | my_list[start:end:step]    |\n",
    "| 튜플                | 순서O         | 허용O           | 불변       | 불가능                    | 불가능                   | 불가능                   | 인덱스: my_tuple[i]     | my_tuple[start:end]   |\n",
    "| 딕셔너리 (dict)     | 순서O| 허용X(key) | 가변 | my_dict[key] = value       | my_dict[key] = new_value  | del my_dict[key]          | 키: my_dict[key]        | 불가능                  |\n",
    "| 집합 (set)          | 순서 O            | 허용X  | 가변       | .add(), .update()      | 불가능                   | .remove(), .discard(), del | 불가능                   | 불가능                  |\n",
    "| numpy.ndarray      | 순서O         | 허용X            | 가변       | .append(), .concatenate() | 인덱스: my_array[i] = new_value | .delete(), np.delete() | 인덱스: my_array[i]     | my_array[start:end]   |\n",
    "| pandas.Series      | 순서O         | 허용O            | 가변       | .loc[], .iloc[]       | 인덱스: my_series[i] = new_value | .drop(), .pop(), del | 인덱스: .loc[i], .iloc[i] | .loc[start:end], .iloc[start:end] |\n",
    "| pandas.DataFrame   | 순서O (행), 순서X (열) | 허용O        | 가변 | .loc[], .iloc[], .insert() | 인덱스/열: my_df.loc[i, col] = new_value | .drop(), .pop(), del | 인덱스/열: .loc[i, col], .iloc[i, col] | .loc[start:end], .iloc[start:end] |"
   ]
  },
  {
   "cell_type": "code",
   "execution_count": null,
   "id": "c469ba2a",
   "metadata": {},
   "outputs": [],
   "source": []
  },
  {
   "cell_type": "code",
   "execution_count": null,
   "id": "e3625acf",
   "metadata": {},
   "outputs": [],
   "source": []
  },
  {
   "cell_type": "code",
   "execution_count": null,
   "id": "177c0812",
   "metadata": {},
   "outputs": [],
   "source": []
  },
  {
   "cell_type": "code",
   "execution_count": null,
   "id": "7d1a1a00",
   "metadata": {},
   "outputs": [],
   "source": []
  },
  {
   "cell_type": "code",
   "execution_count": null,
   "id": "ecc197da",
   "metadata": {},
   "outputs": [],
   "source": []
  },
  {
   "cell_type": "code",
   "execution_count": null,
   "id": "a4382a3c",
   "metadata": {},
   "outputs": [],
   "source": []
  },
  {
   "cell_type": "code",
   "execution_count": null,
   "id": "02ed12dc",
   "metadata": {},
   "outputs": [],
   "source": []
  },
  {
   "cell_type": "code",
   "execution_count": null,
   "id": "591f13b9",
   "metadata": {},
   "outputs": [],
   "source": []
  },
  {
   "cell_type": "code",
   "execution_count": null,
   "id": "d1e66462",
   "metadata": {},
   "outputs": [],
   "source": []
  },
  {
   "cell_type": "code",
   "execution_count": null,
   "id": "0f9416ae",
   "metadata": {},
   "outputs": [],
   "source": []
  },
  {
   "cell_type": "code",
   "execution_count": null,
   "id": "45090f84",
   "metadata": {},
   "outputs": [],
   "source": []
  },
  {
   "cell_type": "code",
   "execution_count": null,
   "id": "530f280f",
   "metadata": {},
   "outputs": [],
   "source": []
  },
  {
   "cell_type": "code",
   "execution_count": null,
   "id": "7b993f71",
   "metadata": {},
   "outputs": [],
   "source": []
  },
  {
   "cell_type": "code",
   "execution_count": null,
   "id": "45945082",
   "metadata": {},
   "outputs": [],
   "source": []
  },
  {
   "cell_type": "code",
   "execution_count": null,
   "id": "21d477a8",
   "metadata": {},
   "outputs": [],
   "source": []
  },
  {
   "cell_type": "code",
   "execution_count": null,
   "id": "e94fbcf9",
   "metadata": {},
   "outputs": [],
   "source": []
  },
  {
   "cell_type": "code",
   "execution_count": null,
   "id": "95369f22",
   "metadata": {},
   "outputs": [],
   "source": []
  },
  {
   "cell_type": "code",
   "execution_count": null,
   "id": "71a57176",
   "metadata": {},
   "outputs": [],
   "source": []
  },
  {
   "cell_type": "code",
   "execution_count": null,
   "id": "08449454",
   "metadata": {},
   "outputs": [],
   "source": []
  },
  {
   "cell_type": "code",
   "execution_count": null,
   "id": "0a19eb35",
   "metadata": {},
   "outputs": [],
   "source": []
  }
 ],
 "metadata": {
  "kernelspec": {
   "display_name": "Python 3 (ipykernel)",
   "language": "python",
   "name": "python3"
  },
  "language_info": {
   "codemirror_mode": {
    "name": "ipython",
    "version": 3
   },
   "file_extension": ".py",
   "mimetype": "text/x-python",
   "name": "python",
   "nbconvert_exporter": "python",
   "pygments_lexer": "ipython3",
   "version": "3.11.3"
  }
 },
 "nbformat": 4,
 "nbformat_minor": 5
}
