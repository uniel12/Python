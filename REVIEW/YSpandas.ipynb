{
 "cells": [
  {
   "cell_type": "code",
   "execution_count": 4,
   "id": "51624452",
   "metadata": {},
   "outputs": [],
   "source": [
    "import pandas as pd"
   ]
  },
  {
   "cell_type": "code",
   "execution_count": 5,
   "id": "211c4513",
   "metadata": {},
   "outputs": [
    {
     "ename": "TypeError",
     "evalue": "Index(...) must be called with a collection of some kind, '설정하고 싶은 index 이름' was passed",
     "output_type": "error",
     "traceback": [
      "\u001b[1;31m---------------------------------------------------------------------------\u001b[0m",
      "\u001b[1;31mTypeError\u001b[0m                                 Traceback (most recent call last)",
      "Cell \u001b[1;32mIn[5], line 3\u001b[0m\n\u001b[0;32m      1\u001b[0m \u001b[38;5;66;03m# 배열을 시리즈 타입으로 변환하는 법\u001b[39;00m\n\u001b[0;32m      2\u001b[0m pd\u001b[38;5;241m.\u001b[39mSeries(\u001b[38;5;124m\"\u001b[39m\u001b[38;5;124m딕셔너리\u001b[39m\u001b[38;5;124m\"\u001b[39m) \u001b[38;5;66;03m# k값은 index 명이 된다.\u001b[39;00m\n\u001b[1;32m----> 3\u001b[0m pd\u001b[38;5;241m.\u001b[39mSeries(\u001b[38;5;124m\"\u001b[39m\u001b[38;5;124m리스트 or 튜플\u001b[39m\u001b[38;5;124m\"\u001b[39m, \u001b[38;5;124m\"\u001b[39m\u001b[38;5;124m설정하고 싶은 index 이름\u001b[39m\u001b[38;5;124m\"\u001b[39m)\n",
      "File \u001b[1;32m~\\anaconda3\\Lib\\site-packages\\pandas\\core\\series.py:399\u001b[0m, in \u001b[0;36mSeries.__init__\u001b[1;34m(self, data, index, dtype, name, copy, fastpath)\u001b[0m\n\u001b[0;32m    395\u001b[0m     \u001b[38;5;66;03m# uncomment the line below when removing the FutureWarning\u001b[39;00m\n\u001b[0;32m    396\u001b[0m     \u001b[38;5;66;03m# dtype = np.dtype(object)\u001b[39;00m\n\u001b[0;32m    398\u001b[0m \u001b[38;5;28;01mif\u001b[39;00m index \u001b[38;5;129;01mis\u001b[39;00m \u001b[38;5;129;01mnot\u001b[39;00m \u001b[38;5;28;01mNone\u001b[39;00m:\n\u001b[1;32m--> 399\u001b[0m     index \u001b[38;5;241m=\u001b[39m ensure_index(index)\n\u001b[0;32m    401\u001b[0m \u001b[38;5;28;01mif\u001b[39;00m data \u001b[38;5;129;01mis\u001b[39;00m \u001b[38;5;28;01mNone\u001b[39;00m:\n\u001b[0;32m    402\u001b[0m     data \u001b[38;5;241m=\u001b[39m {}\n",
      "File \u001b[1;32m~\\anaconda3\\Lib\\site-packages\\pandas\\core\\indexes\\base.py:7333\u001b[0m, in \u001b[0;36mensure_index\u001b[1;34m(index_like, copy)\u001b[0m\n\u001b[0;32m   7331\u001b[0m         \u001b[38;5;28;01mreturn\u001b[39;00m Index\u001b[38;5;241m.\u001b[39m_with_infer(index_like, copy\u001b[38;5;241m=\u001b[39mcopy, tupleize_cols\u001b[38;5;241m=\u001b[39m\u001b[38;5;28;01mFalse\u001b[39;00m)\n\u001b[0;32m   7332\u001b[0m \u001b[38;5;28;01melse\u001b[39;00m:\n\u001b[1;32m-> 7333\u001b[0m     \u001b[38;5;28;01mreturn\u001b[39;00m Index\u001b[38;5;241m.\u001b[39m_with_infer(index_like, copy\u001b[38;5;241m=\u001b[39mcopy)\n",
      "File \u001b[1;32m~\\anaconda3\\Lib\\site-packages\\pandas\\core\\indexes\\base.py:716\u001b[0m, in \u001b[0;36mIndex._with_infer\u001b[1;34m(cls, *args, **kwargs)\u001b[0m\n\u001b[0;32m    714\u001b[0m \u001b[38;5;28;01mwith\u001b[39;00m warnings\u001b[38;5;241m.\u001b[39mcatch_warnings():\n\u001b[0;32m    715\u001b[0m     warnings\u001b[38;5;241m.\u001b[39mfilterwarnings(\u001b[38;5;124m\"\u001b[39m\u001b[38;5;124mignore\u001b[39m\u001b[38;5;124m\"\u001b[39m, \u001b[38;5;124m\"\u001b[39m\u001b[38;5;124m.*the Index constructor\u001b[39m\u001b[38;5;124m\"\u001b[39m, \u001b[38;5;167;01mFutureWarning\u001b[39;00m)\n\u001b[1;32m--> 716\u001b[0m     result \u001b[38;5;241m=\u001b[39m \u001b[38;5;28mcls\u001b[39m(\u001b[38;5;241m*\u001b[39margs, \u001b[38;5;241m*\u001b[39m\u001b[38;5;241m*\u001b[39mkwargs)\n\u001b[0;32m    718\u001b[0m \u001b[38;5;28;01mif\u001b[39;00m result\u001b[38;5;241m.\u001b[39mdtype \u001b[38;5;241m==\u001b[39m _dtype_obj \u001b[38;5;129;01mand\u001b[39;00m \u001b[38;5;129;01mnot\u001b[39;00m result\u001b[38;5;241m.\u001b[39m_is_multi:\n\u001b[0;32m    719\u001b[0m     \u001b[38;5;66;03m# error: Argument 1 to \"maybe_convert_objects\" has incompatible type\u001b[39;00m\n\u001b[0;32m    720\u001b[0m     \u001b[38;5;66;03m# \"Union[ExtensionArray, ndarray[Any, Any]]\"; expected\u001b[39;00m\n\u001b[0;32m    721\u001b[0m     \u001b[38;5;66;03m# \"ndarray[Any, Any]\"\u001b[39;00m\n\u001b[0;32m    722\u001b[0m     values \u001b[38;5;241m=\u001b[39m lib\u001b[38;5;241m.\u001b[39mmaybe_convert_objects(result\u001b[38;5;241m.\u001b[39m_values)  \u001b[38;5;66;03m# type: ignore[arg-type]\u001b[39;00m\n",
      "File \u001b[1;32m~\\anaconda3\\Lib\\site-packages\\pandas\\core\\indexes\\base.py:545\u001b[0m, in \u001b[0;36mIndex.__new__\u001b[1;34m(cls, data, dtype, copy, name, tupleize_cols, **kwargs)\u001b[0m\n\u001b[0;32m    542\u001b[0m     \u001b[38;5;28;01mreturn\u001b[39;00m klass\u001b[38;5;241m.\u001b[39m_simple_new(arr, name)\n\u001b[0;32m    544\u001b[0m \u001b[38;5;28;01melif\u001b[39;00m is_scalar(data):\n\u001b[1;32m--> 545\u001b[0m     \u001b[38;5;28;01mraise\u001b[39;00m \u001b[38;5;28mcls\u001b[39m\u001b[38;5;241m.\u001b[39m_scalar_data_error(data)\n\u001b[0;32m    546\u001b[0m \u001b[38;5;28;01melif\u001b[39;00m \u001b[38;5;28mhasattr\u001b[39m(data, \u001b[38;5;124m\"\u001b[39m\u001b[38;5;124m__array__\u001b[39m\u001b[38;5;124m\"\u001b[39m):\n\u001b[0;32m    547\u001b[0m     \u001b[38;5;28;01mreturn\u001b[39;00m Index(np\u001b[38;5;241m.\u001b[39masarray(data), dtype\u001b[38;5;241m=\u001b[39mdtype, copy\u001b[38;5;241m=\u001b[39mcopy, name\u001b[38;5;241m=\u001b[39mname, \u001b[38;5;241m*\u001b[39m\u001b[38;5;241m*\u001b[39mkwargs)\n",
      "\u001b[1;31mTypeError\u001b[0m: Index(...) must be called with a collection of some kind, '설정하고 싶은 index 이름' was passed"
     ]
    }
   ],
   "source": [
    "# 배열을 시리즈 타입으로 변환하는 법\n",
    "pd.Series(\"딕셔너리\") # k값은 index 명이 된다.\n",
    "pd.Series(\"리스트 or 튜플\", \"설정하고 싶은 index 이름\")"
   ]
  },
  {
   "cell_type": "code",
   "execution_count": null,
   "id": "68e315a5",
   "metadata": {},
   "outputs": [],
   "source": [
    "import pandas as pd\n",
    "\n",
    "df = pd.DataFrame(\"딕셔너리 객체\") # 데이터 프레임 선언\n",
    "\n",
    "# 데이터 프레임의 인덱스와 컬럼을 한 번에 바꾼다\n",
    "df.index = [\"변경할 인덱스명1\", \"변경할 인덱스명2\"] # row 수 만큼 입력\n",
    "df.columns = [\"변경할 컬럼명1\", \"변경할 컬럼명2\"] # column 수 만큼 입력\n",
    "\n",
    "# 데이터 프렘임의 원하는 인덱스와 컬럼을 바꾼다\n",
    "df.rename(index = {기존 인덱스:바꿀 인덱스, ...})\n",
    "df.rename(coulumns = {기존 컬럼:바꿀 컬럼, ...})\n",
    "\n",
    "# 행 또는 열 삭제\n",
    "df.drop(\"행 이름\" or [\"행 이름\", \"행 이름\"], axis = 0) # 행은 axis = 0 <- 생략 가능\n",
    "df.drop(\"컬럼 이름\" or [\"컬럼 이름\", \"컬럼 이름\"], axis = 1) # 열은 axis = 1 <- 생략 불가능\n",
    "## 행 또는 열을 슬라이싱으로 삭제하고 싶다면?\n",
    "df.drop(df.columns[0:2], axis=1) # 컬럼명을 슬라이싱으로 불러와서 할당\n",
    "\n",
    "# 행 또는 열 선택\n",
    "df.loc[:, 'ColumnName']  # 'ColumnName'이라는 이름의 열을 선택\n",
    "df.loc['indexName', :]  # 'indexName'이라는 이름의 행을 선택\n",
    "\n",
    "df.iloc[:, 2]  # 세 번째 열을 선택 (인덱스는 0부터 시작)\n",
    "df.iloc[1, :]  # 두 번째 행을 선택 (인덱스는 0부터 시작)\n",
    "--\n",
    "위의 방식으로 하나의 행 혹은 열을 선택하면 리턴 값의 데이터 타입은 'Series'다.\n",
    "그러나 슬라이싱을 통해 두 개 이상의 행 또는 열을 선택하면 리턴 값은 'DataFrame'이 된다.\n",
    "\n",
    "df.loc[:, 'A':'C']  # 'A'와 'C'를 포함한 둘 사이의 모든 열 선택 (이름 인덱스는 끝값 포함)\n",
    "df.iloc[:, 2:]  # 세 번째 열부터 선택 \n",
    "df.iloc[:2, :]  # 두 번째 행까지 선택\n",
    "\n",
    "df.iloc[시작 인덱스 : 끝 인덱스 : 슬라이싱 간격] # 이렇게도 행을 슬라이싱할 수 있다.\n",
    "df.iloc[ : :-1] # 이렇게 하면 행의 배치 순서를 뒤집을 수 있다.\n",
    "df.iloc[ : , : :-1] # 열의 순서도 이를 통해 뒤집을 수 있다.\n",
    "\n",
    "## 요소 선택\n",
    "df.loc['행 이름 인덱스', '열 이름 인덱스'] # 해당 행 이름 인덱스와 열 이름 인덱스의 요소 선택\n",
    "df.iloc[0,0] #0 행 0열의 요소 선택\n",
    "- 하나의 요소만이 선택 되었을 때는 해당 요소의 데이터 타입으로 요소가 반환된다.\n",
    "- 요소를 선택한 뒤, 값을 대입하면 선택된 요소들은 모두 해당 값으로 변경된다.\n",
    "- df.loc['행 이름', ['열 이름1', '열 이름2']] = 0 # 둘 다 0으로 초기화\n",
    "- df.loc['행 이름', ['열 이름1', '열 이름2']] = 0, 50 # 1번 열은 0으로 2번 열은 50으로 초기화\n",
    "\n",
    "#데이터 프레임 열 추가\n",
    "df['new_column_name'] = values # values에 하나의 요소만 입력시 모든 행에 같은 값이 추가\n",
    "\n",
    "## 데이터 프레임 행 추가\n",
    "# 1번\n",
    "new_row = {'A': 4, 'B': 7}\n",
    "df = df.append(new_row, ignore_index=True)\n",
    "\n",
    "# 2번 - 행 이름이 중복되어서는 안 된다. 행 이름 중복시 기존 행의 요소가 변경된다.\n",
    "df.loc[3] = [4, 7] # df.loc[추가될 행 이름] = [요소]\n",
    "\n",
    "## 행과 열의 위치 바꾸기\n",
    "df.transpose()\n",
    "df.T\n",
    "# 위의 두 방법 모두 행과 열의 위치가 바꾼다. 다시 바꾸면 원래대로 돌아온다."
   ]
  }
 ],
 "metadata": {
  "kernelspec": {
   "display_name": "Python 3 (ipykernel)",
   "language": "python",
   "name": "python3"
  },
  "language_info": {
   "codemirror_mode": {
    "name": "ipython",
    "version": 3
   },
   "file_extension": ".py",
   "mimetype": "text/x-python",
   "name": "python",
   "nbconvert_exporter": "python",
   "pygments_lexer": "ipython3",
   "version": "3.11.3"
  }
 },
 "nbformat": 4,
 "nbformat_minor": 5
}
