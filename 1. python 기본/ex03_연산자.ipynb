{
 "cells": [
  {
   "cell_type": "markdown",
   "id": "01a14a53",
   "metadata": {},
   "source": [
    "## 연산자의 종류\n",
    "\n",
    "1. 산술 연산자 +   -   *   /   //   %\n",
    "2. 지수 연산자 **\n",
    "3. 대입(복합)연산자  =   +=   -=   *=   /=   //=   %=\n",
    "4. 관계(비교) 연산자 : 두 수를 비교하여 참 또는 거짓을 반환.  >    >=   <   <=   ==   !=\n",
    "5. 논리 연산자 : 조건문을 연결하기 위해 사용.  and or not\n",
    "6. 멤버 연산자 : 해당 값이 대상 객체에 존재하는지 확인하기 위해 사용.  in   not in\n",
    "6. 삼항 연산자 a if 조건식 else b\n"
   ]
  },
  {
   "cell_type": "markdown",
   "id": "772d7e8e",
   "metadata": {},
   "source": [
    "### 산술연산자"
   ]
  },
  {
   "cell_type": "code",
   "execution_count": 4,
   "id": "fed61f79",
   "metadata": {},
   "outputs": [
    {
     "name": "stdout",
     "output_type": "stream",
     "text": [
      "나누기 : 1.43\n",
      "나머지 : 3\n",
      "몫 : 1\n",
      "\n"
     ]
    }
   ],
   "source": [
    "# 산술연산자\n",
    "# 나누기(/), 나머지(%), 몫 (//) 구하기\n",
    "\n",
    "num1 = 10\n",
    "num2 = 7\n",
    "\n",
    "# :.2f -> 소수점 둘째자리까지만 출력, 알아서 반올림\n",
    "# 포매팅에서만 사용가능!!\n",
    "print(f\"나누기 : {num1/num2 :.2f}\")\n",
    "print(f\"나머지 : {num1%num2}\")\n",
    "print(f\"몫 : {num1//num2}\")"
   ]
  },
  {
   "cell_type": "markdown",
   "id": "c333903f",
   "metadata": {},
   "source": [
    " - 문자열 더하기"
   ]
  },
  {
   "cell_type": "code",
   "execution_count": 9,
   "id": "b865cacf",
   "metadata": {},
   "outputs": [
    {
     "name": "stdout",
     "output_type": "stream",
     "text": [
      "안녕하세요~\n",
      "안녕하세요~\n"
     ]
    }
   ],
   "source": [
    "str1 = '안녕'\n",
    "str2 = '하세요~'\n",
    "print(str1+str2) # 문자열 \"더하기\"\n",
    "print(str1,str2,sep=\"\") # 문자열 \"이어주기\""
   ]
  },
  {
   "cell_type": "code",
   "execution_count": 11,
   "id": "60ccb642",
   "metadata": {},
   "outputs": [
    {
     "name": "stdout",
     "output_type": "stream",
     "text": [
      "107\n"
     ]
    }
   ],
   "source": [
    "num_str1 = '10'\n",
    "num_str2 ='7'\n",
    "print(num_str1+num_str2)"
   ]
  },
  {
   "cell_type": "code",
   "execution_count": 18,
   "id": "7889bdfe",
   "metadata": {},
   "outputs": [
    {
     "name": "stdout",
     "output_type": "stream",
     "text": [
      "17\n"
     ]
    }
   ],
   "source": [
    "# 만약에 숫자와 문자열을 더한다면?  \n",
    "# 자동형변환 안돤다 -> 강제형변환 해줘야함\n",
    "num1 =10\n",
    "str1 =\"7\"\n",
    "print(num1+int(str1))"
   ]
  },
  {
   "cell_type": "code",
   "execution_count": 23,
   "id": "63f08cbb",
   "metadata": {},
   "outputs": [
    {
     "name": "stdout",
     "output_type": "stream",
     "text": [
      "17\n"
     ]
    }
   ],
   "source": [
    "# 자료형 맞추기 위해 \"강제형변환\"\n",
    "i_str1=int(str1)\n",
    "type(i_str1)\n",
    "print(num1 +i_str1)"
   ]
  },
  {
   "cell_type": "code",
   "execution_count": 28,
   "id": "6fb1ce52",
   "metadata": {},
   "outputs": [
    {
     "name": "stdout",
     "output_type": "stream",
     "text": [
      "더하기 결과 : 26\n",
      "빼기 결과 : 20\n",
      "곱하기 결과 : 69\n",
      "나누기 결과 : 7.67\n"
     ]
    }
   ],
   "source": [
    "num1, num2 = 23,3\n",
    "\n",
    "print(f\"더하기 결과 : {num1 + num2}\")\n",
    "print(f\"빼기 결과 : {num1 - num2}\")\n",
    "print(f\"곱하기 결과 : {num1 * num2}\")\n",
    "print(f\"나누기 결과 : {num1 / num2 :.2f}\")\n"
   ]
  },
  {
   "cell_type": "markdown",
   "id": "170f334c",
   "metadata": {},
   "source": [
    "- 키보드로 입력받는 input()\n",
    "     -  문자를 숫자로 바꾸기\n",
    "    - int(문자열) : 문자열을 정수로 변환\n",
    "    - float(문자열): 문자열을 실수로 변환"
   ]
  },
  {
   "cell_type": "code",
   "execution_count": 30,
   "id": "60e71158",
   "metadata": {},
   "outputs": [
    {
     "name": "stdout",
     "output_type": "stream",
     "text": [
      "정수를 입력하세요>> 123\n"
     ]
    },
    {
     "data": {
      "text/plain": [
       "123"
      ]
     },
     "execution_count": 30,
     "metadata": {},
     "output_type": "execute_result"
    }
   ],
   "source": [
    "num3 = int(input(\"정수를 입력하세요>> \"))\n",
    "num3"
   ]
  },
  {
   "cell_type": "code",
   "execution_count": null,
   "id": "f3657ecf",
   "metadata": {},
   "outputs": [],
   "source": [
    "# input 함수를 이용해서 num1,num2의 값을 키보드로 입력받고 연산결과 출력\n",
    "num1 = int(input(\"정수를 입력하세요 >>\"))\n",
    "num2 = int(input(\"정수를 입력하세요 >>\"))\n",
    "\n",
    "print(f\"더하기 결과 : {num1 + num2}\")\n",
    "print(f\"빼기 결과 : {num1 - num2}\")\n",
    "print(f\"곱하기 결과 : {num1 * num2}\")\n",
    "print(f\"나누기 결과 : {num1 / num2 :.2f}\")\n",
    "\n",
    "print(\"\\n\",f\"더하기 결과 : {num1 + num2} \",\"\\n\",f\"빼기 결과 : {num1 - num2}\",\"\\n\",\n",
    "   f\"곱하기 결과 : {num1 * num2}\",\"\\n\", f\"나누기 결과 : {num1 / num2 :.2f}\",sep=\"\")"
   ]
  },
  {
   "cell_type": "markdown",
   "id": "a20c22af",
   "metadata": {},
   "source": [
    "- 문자열 곱하기"
   ]
  },
  {
   "cell_type": "code",
   "execution_count": 4,
   "id": "e4588c9d",
   "metadata": {},
   "outputs": [
    {
     "name": "stdout",
     "output_type": "stream",
     "text": [
      "xxxxxxxxxx\n"
     ]
    }
   ],
   "source": [
    "s = 'x'\n",
    "print(s*10)"
   ]
  },
  {
   "cell_type": "code",
   "execution_count": 5,
   "id": "554ce7a1",
   "metadata": {},
   "outputs": [
    {
     "name": "stdout",
     "output_type": "stream",
     "text": [
      "안녕하세요\n",
      "안녕하세요\n",
      "안녕하세요\n",
      "안녕하세요\n",
      "안녕하세요\n",
      "안녕하세요\n",
      "안녕하세요\n",
      "안녕하세요\n",
      "안녕하세요\n",
      "안녕하세요\n",
      "\n"
     ]
    }
   ],
   "source": [
    "# 안녕하세요 10 번 연속해서 출력\n",
    "s ='안녕하세요\\n'\n",
    "print(s*10)"
   ]
  },
  {
   "cell_type": "markdown",
   "id": "7f5ae8a7",
   "metadata": {},
   "source": [
    "### 지수연산자(기호:**)\n",
    "     - 제곱"
   ]
  },
  {
   "cell_type": "code",
   "execution_count": 1,
   "id": "f983fafa",
   "metadata": {},
   "outputs": [
    {
     "data": {
      "text/plain": [
       "8"
      ]
     },
     "execution_count": 1,
     "metadata": {},
     "output_type": "execute_result"
    }
   ],
   "source": [
    "# 숫자 2의 3제곱을 해보자\n",
    "2**3"
   ]
  },
  {
   "cell_type": "code",
   "execution_count": 5,
   "id": "01fd3e74",
   "metadata": {},
   "outputs": [
    {
     "name": "stdout",
     "output_type": "stream",
     "text": [
      "정수입력 > 2\n",
      "지수입력 > 3\n",
      "2의 3승은 8입니다.\n"
     ]
    }
   ],
   "source": [
    "# 키보드로 입력을 받아 지수연산을 실행해보자!\n",
    "# 1. 정수값 입력받기\n",
    "# 2. 지수값 입력받기\n",
    "# 3. 2의 3승은 8입니다.라고 출력하기\n",
    "number = int(input(\"정수입력 > \"))\n",
    "power = int(input(\"지수입력 > \"))\n",
    "\n",
    "print(f\"{number}의 {power}승은 {number**power}입니다.\")"
   ]
  },
  {
   "cell_type": "markdown",
   "id": "930c169f",
   "metadata": {},
   "source": [
    "- 치환"
   ]
  },
  {
   "cell_type": "code",
   "execution_count": 7,
   "id": "c4cddc47",
   "metadata": {},
   "outputs": [
    {
     "name": "stdout",
     "output_type": "stream",
     "text": [
      "7\n",
      "3\n"
     ]
    }
   ],
   "source": [
    "a, b=3, 7\n",
    "a,b=b,a\n",
    "print(a)\n",
    "print(b)"
   ]
  },
  {
   "cell_type": "markdown",
   "id": "4ec4e3f5",
   "metadata": {},
   "source": [
    "### 비교연산자"
   ]
  },
  {
   "cell_type": "code",
   "execution_count": 8,
   "id": "85fffe4e",
   "metadata": {},
   "outputs": [],
   "source": [
    "# random 내장함수 사용하기\n",
    "\n",
    "import random as rd"
   ]
  },
  {
   "cell_type": "code",
   "execution_count": 13,
   "id": "84409462",
   "metadata": {},
   "outputs": [
    {
     "name": "stdout",
     "output_type": "stream",
     "text": [
      "a: 10, b:7\n",
      "False\n",
      "True\n",
      "False\n",
      "True\n"
     ]
    }
   ],
   "source": [
    "a = rd.randint(1,10) # random함수는 '끝값'을 포함한다!\n",
    "b = rd.randint(1,10)\n",
    "print(f\"a: {a}, b:{b}\")\n",
    "\n",
    "print(a < b) # 'a'는 'b'보다 작나요?\n",
    "print(a > b) # 'a'는 'b'보다 크나요?\n",
    "print(a == b) # 'a'는 'b'와 같나요?\n",
    "print(a != b) # 'a'는 'b'와 같지않나요?"
   ]
  },
  {
   "cell_type": "markdown",
   "id": "1a5b947d",
   "metadata": {},
   "source": [
    "### 논리 연산자\n",
    "- True, False의 논리값(boolean값)을 \"반환\"하는 연산자\n",
    "- not 연산자"
   ]
  },
  {
   "cell_type": "code",
   "execution_count": 15,
   "id": "c818bfea",
   "metadata": {},
   "outputs": [
    {
     "name": "stdout",
     "output_type": "stream",
     "text": [
      "a < b : True\n",
      "a < b : False\n"
     ]
    }
   ],
   "source": [
    "a = 3\n",
    "b = 7\n",
    "print(f'a < b : {a < b}')\n",
    "print(f'a < b : {not a < b}')"
   ]
  },
  {
   "cell_type": "markdown",
   "id": "3eed46f3",
   "metadata": {},
   "source": [
    "#### and 연산자\n",
    "    - 두조건이 모두 참(True)일 경우 참(True)으로 반환!"
   ]
  },
  {
   "cell_type": "code",
   "execution_count": 16,
   "id": "22e57dd9",
   "metadata": {},
   "outputs": [
    {
     "name": "stdout",
     "output_type": "stream",
     "text": [
      "True\n",
      "True\n",
      "True\n"
     ]
    }
   ],
   "source": [
    "print(3 < 5)\n",
    "print(10 < 20)\n",
    "\n",
    "3 < 5 and 10 < 20\n",
    "print (3 < 5 and 10 < 20)"
   ]
  },
  {
   "cell_type": "markdown",
   "id": "38a4c2b3",
   "metadata": {},
   "source": [
    "#### or 연산자\n",
    "- 두 조건이 하나라면 참(True)이면 참 반환"
   ]
  },
  {
   "cell_type": "code",
   "execution_count": 17,
   "id": "198ff8c0",
   "metadata": {},
   "outputs": [
    {
     "name": "stdout",
     "output_type": "stream",
     "text": [
      "True\n",
      "True\n",
      "True\n"
     ]
    }
   ],
   "source": [
    "print(3 < 5)\n",
    "print(10 < 20)\n",
    "\n",
    "3 < 5 or 10 < 20\n",
    "print (3 < 5 or 10 < 20)"
   ]
  },
  {
   "cell_type": "markdown",
   "id": "119da309",
   "metadata": {},
   "source": [
    "### 멤버연산자\n",
    "- 조건문에 자주 활용되는 in, not in\n",
    "    - in : 찾고자 하는 값(x)이 포함되어 있으면 True\n",
    "    - not in : 찾고자 하는 값(x)이 포함되어 있지 않으면 True\n",
    "    "
   ]
  },
  {
   "cell_type": "code",
   "execution_count": null,
   "id": "e932f484",
   "metadata": {},
   "outputs": [],
   "source": [
    "# x in 문자열 / x in 리스트 / x in 튜플"
   ]
  },
  {
   "cell_type": "markdown",
   "id": "ac49d251",
   "metadata": {},
   "source": [
    "###  삼항연산자\n",
    " - a(true 결과값) if 조건식 else b(False 결과값)"
   ]
  },
  {
   "cell_type": "code",
   "execution_count": 20,
   "id": "9e2a19b3",
   "metadata": {},
   "outputs": [
    {
     "data": {
      "text/plain": [
       "'합격'"
      ]
     },
     "execution_count": 20,
     "metadata": {},
     "output_type": "execute_result"
    }
   ],
   "source": [
    "score = 80\n",
    "'합격' if score >= 60 else '불합격'"
   ]
  },
  {
   "cell_type": "code",
   "execution_count": 21,
   "id": "5749e331",
   "metadata": {},
   "outputs": [
    {
     "data": {
      "text/plain": [
       "'불합격'"
      ]
     },
     "execution_count": 21,
     "metadata": {},
     "output_type": "execute_result"
    }
   ],
   "source": [
    "score = 50\n",
    "'합격' if score >= 60 else '불합격'"
   ]
  },
  {
   "cell_type": "markdown",
   "id": "e78b613e",
   "metadata": {},
   "source": [
    "##### 삼항 연산자 실습 예제\n",
    " 1. 두 개의 정수를 입력받아 큰 수를 출력하세요.\n",
    " 2. 두 개의 정수를 입력받아 큰수에서 작은 수를 뺀 두 수의 차를 출력하세요.\n",
    " 3. 정수를 입력받아 짝수인주 홀수인지 판별하여 출력하세요. "
   ]
  },
  {
   "cell_type": "code",
   "execution_count": 41,
   "id": "a289187d",
   "metadata": {},
   "outputs": [
    {
     "name": "stdout",
     "output_type": "stream",
     "text": [
      "정수 입력 >> 5\n",
      "정수 입력 >> 4\n",
      "a : 5\n"
     ]
    }
   ],
   "source": [
    "# 실습1\n",
    "\n",
    "a = int (input(\"정수 입력 >> \"))\n",
    "b = int (input(\"정수 입력 >> \"))\n",
    "\n",
    "print(f'a : {a}'if a > b else f'b : {b}')"
   ]
  },
  {
   "cell_type": "code",
   "execution_count": 48,
   "id": "3deaff90",
   "metadata": {},
   "outputs": [
    {
     "name": "stdout",
     "output_type": "stream",
     "text": [
      "첫 번째 정수입력 >>5\n",
      "두 번째 정수 입력 >> 4\n",
      "두수의 차 : 1 \n"
     ]
    }
   ],
   "source": [
    "# 실습2\n",
    "\n",
    "a = int(input(\"첫 번째 정수입력 >>\"))\n",
    "b = int (input(\"두 번째 정수 입력 >> \"))\n",
    "\n",
    "print (f\"두수의 차 : { a - b} \"if a > b else f\"두수의 차 :{b - a}\")"
   ]
  },
  {
   "cell_type": "code",
   "execution_count": 45,
   "id": "2a6c60cf",
   "metadata": {},
   "outputs": [
    {
     "name": "stdout",
     "output_type": "stream",
     "text": [
      "정수입력 >> 5\n",
      "5는(은) 홀수입니다.\n"
     ]
    }
   ],
   "source": [
    "# 실습3\n",
    "\n",
    "num = int(input(\"정수입력 >> \"))\n",
    "\n",
    "print(f'{num}는(은) 짝수입니다.' if num % 2 == 0 else f'{num}는(은) 홀수입니다.')"
   ]
  },
  {
   "cell_type": "code",
   "execution_count": null,
   "id": "cf62e1dc",
   "metadata": {},
   "outputs": [],
   "source": []
  }
 ],
 "metadata": {
  "kernelspec": {
   "display_name": "Python 3 (ipykernel)",
   "language": "python",
   "name": "python3"
  },
  "language_info": {
   "codemirror_mode": {
    "name": "ipython",
    "version": 3
   },
   "file_extension": ".py",
   "mimetype": "text/x-python",
   "name": "python",
   "nbconvert_exporter": "python",
   "pygments_lexer": "ipython3",
   "version": "3.11.3"
  }
 },
 "nbformat": 4,
 "nbformat_minor": 5
}
