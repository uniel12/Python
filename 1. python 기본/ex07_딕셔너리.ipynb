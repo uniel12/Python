{
 "cells": [
  {
   "cell_type": "markdown",
   "id": "3ed578d6",
   "metadata": {},
   "source": [
    "## 딕셔너리(dictionary)\n",
    "- 단어 그대로 사전의 뜻\n",
    "- dictionary는 Key와 Value를 한쌍으로 갖는 자료형\n",
    "- 딕셔너리 타입 : immutable한 key와 mutable한 Value로 맵핑되어 있는<br> 순서(index)가 없는 집합\n",
    "*  딕셔너리명 ={'Key' : 'Value', 'Key':'Value',....}\n",
    "    - Key에는 변하지 않는 값을 사용하고\n",
    "    - Value에는 변하는 값과 변하지 않는 값 모두 사용할 수 있음"
   ]
  },
  {
   "cell_type": "markdown",
   "id": "7bba201a",
   "metadata": {},
   "source": [
    "#### cf) 자료형\n",
    "|    데이터 타입    |  가변형 / 불변형  |\n",
    "|:------------------:|:----------------:|\n",
    "|       int         |      불변형       |\n",
    "|       float       |      불변형       |\n",
    "|       bool        |      불변형       |\n",
    "|       str         |      불변형       |\n",
    "|       tuple       |      불변형       |\n",
    "|       frozenset   |      불변형       |\n",
    "|       list        |       가변형      |\n",
    "|       set         |       가변형      |\n",
    "|       dict        |       가변형      |\n",
    "| numpy.ndarray     |       가변형      |\n",
    "| pandas.Series     |       가변형      |\n",
    "| pandas.DataFrame  |       가변형      |"
   ]
  },
  {
   "cell_type": "code",
   "execution_count": 4,
   "id": "df3705e4",
   "metadata": {},
   "outputs": [
    {
     "name": "stdout",
     "output_type": "stream",
     "text": [
      "list1: [1, 2, 3, 4], list2: [1, 2, 3, 4]\n",
      "list1 id: 2894628851008, list2 id: 2894628851008\n",
      "num1: 10, num2: 15\n",
      "num1 id: 140716975232072, num2 id: 140716975232232\n"
     ]
    }
   ],
   "source": [
    "# 리스트는 가변형이므로 주소값 공유\n",
    "list1 = [1, 2, 3]\n",
    "list2 = list1\n",
    "list2.append(4)\n",
    "\n",
    "print(f\"list1: {list1}, list2: {list2}\")\n",
    "print(f\"list1 id: {id(list1)}, list2 id: {id(list2)}\")\n",
    "\n",
    "# 숫자는 불변형이므로 주소값 변경\n",
    "num1 = 10\n",
    "num2 = num1\n",
    "num2 += 5\n",
    "\n",
    "print(f\"num1: {num1}, num2: {num2}\")\n",
    "print(f\"num1 id: {id(num1)}, num2 id: {id(num2)}\")"
   ]
  },
  {
   "cell_type": "code",
   "execution_count": 5,
   "id": "b7004bd7",
   "metadata": {},
   "outputs": [
    {
     "name": "stdout",
     "output_type": "stream",
     "text": [
      "list1: [1, 2, 3], list2: [1, 2, 3, 4]\n",
      "list1 id: 2894628843136, list2 id: 2894628835008\n"
     ]
    }
   ],
   "source": [
    "# 리스트는 가변형 \n",
    "\n",
    "# -> 원본데이터를 남겨두고 싶을 때 ,불변형처럼 주솟값을 다르게,독립적이게 하고싶을 때\n",
    "#  .copy()\n",
    "# 머신러닝에서 사용, 실무에서 많이 쓰임\n",
    "\n",
    "list1 = [1, 2, 3]\n",
    "list2 = list1.copy()\n",
    "list2.append(4)\n",
    "\n",
    "print(f\"list1: {list1}, list2: {list2}\")\n",
    "print(f\"list1 id: {id(list1)}, list2 id: {id(list2)}\")\n"
   ]
  },
  {
   "cell_type": "markdown",
   "id": "ea782f6c",
   "metadata": {},
   "source": [
    "### 딕셔너리\n",
    "- Key는 불변적, Value는 가변적\n",
    "- 딕셔너리명={'key':'vlaue',...}\n",
    "- 순서가 없지만 for문은 가능"
   ]
  },
  {
   "cell_type": "code",
   "execution_count": 9,
   "id": "5c7f829d",
   "metadata": {},
   "outputs": [
    {
     "data": {
      "text/plain": [
       "{'Key': 'Val', 'name': 'BG', 'age': 28, 'phone': '010-1234-1234'}"
      ]
     },
     "execution_count": 9,
     "metadata": {},
     "output_type": "execute_result"
    }
   ],
   "source": [
    "# 딕셔너리 생성\n",
    "dic1={\"Key\":\"Value\",\"name\":\"BG\",\"age\":28,\"phone\":\"010-1234-1234\"}\n",
    "dic1"
   ]
  },
  {
   "cell_type": "code",
   "execution_count": 13,
   "id": "daeb03e2",
   "metadata": {},
   "outputs": [
    {
     "name": "stdout",
     "output_type": "stream",
     "text": [
      "Val\n"
     ]
    },
    {
     "data": {
      "text/plain": [
       "{'Key': 'Val',\n",
       " 'name': 'BG',\n",
       " 'age': 28,\n",
       " 'phone': '010-1234-1234',\n",
       " 'birth': '01/01'}"
      ]
     },
     "execution_count": 13,
     "metadata": {},
     "output_type": "execute_result"
    }
   ],
   "source": [
    "# 딕셔너리 값 추가 -> 딕셔너리는 순서가 없음\n",
    "\n",
    "# dic[\"Key\"] = Value\n",
    "print(dic1[\"Key\"]) # 딕셔너리 인덱싱\n",
    "dic1[\"birth\"]='01/01'\n",
    "dic1"
   ]
  },
  {
   "cell_type": "code",
   "execution_count": 15,
   "id": "467fa6db",
   "metadata": {},
   "outputs": [],
   "source": [
    "# 딕셔너리 값 삭제\n",
    "# del 딕셔너리명[\"Key\"]\n",
    "del dic1[\"age\"]"
   ]
  },
  {
   "cell_type": "code",
   "execution_count": 16,
   "id": "66b7ced7",
   "metadata": {},
   "outputs": [
    {
     "data": {
      "text/plain": [
       "{'Key': 'Val', 'name': 'BG', 'phone': '010-1234-1234', 'birth': '01/01'}"
      ]
     },
     "execution_count": 16,
     "metadata": {},
     "output_type": "execute_result"
    }
   ],
   "source": [
    "dic1"
   ]
  },
  {
   "cell_type": "code",
   "execution_count": 19,
   "id": "d8e7c540",
   "metadata": {},
   "outputs": [
    {
     "data": {
      "text/plain": [
       "'BG'"
      ]
     },
     "execution_count": 19,
     "metadata": {},
     "output_type": "execute_result"
    }
   ],
   "source": [
    "# 딕셔너리 값 가져오기1 -> 인덱싱\n",
    "dic1[\"name\"]"
   ]
  },
  {
   "cell_type": "code",
   "execution_count": 18,
   "id": "f8098db3",
   "metadata": {},
   "outputs": [
    {
     "data": {
      "text/plain": [
       "'BG'"
      ]
     },
     "execution_count": 18,
     "metadata": {},
     "output_type": "execute_result"
    }
   ],
   "source": [
    "# 딕셔너리 값 가져오기2 -> get()\n",
    "dic1.get(\"name\")"
   ]
  },
  {
   "cell_type": "markdown",
   "id": "e4ea4819",
   "metadata": {},
   "source": [
    "- 인덱싱과 get()차이"
   ]
  },
  {
   "cell_type": "code",
   "execution_count": 21,
   "id": "50de1a86",
   "metadata": {},
   "outputs": [
    {
     "ename": "KeyError",
     "evalue": "'age'",
     "output_type": "error",
     "traceback": [
      "\u001b[1;31m---------------------------------------------------------------------------\u001b[0m",
      "\u001b[1;31mKeyError\u001b[0m                                  Traceback (most recent call last)",
      "Cell \u001b[1;32mIn[21], line 1\u001b[0m\n\u001b[1;32m----> 1\u001b[0m \u001b[38;5;28mprint\u001b[39m(dic1[\u001b[38;5;124m\"\u001b[39m\u001b[38;5;124mage\u001b[39m\u001b[38;5;124m\"\u001b[39m])\n",
      "\u001b[1;31mKeyError\u001b[0m: 'age'"
     ]
    }
   ],
   "source": [
    "print(dic1[\"age\"])"
   ]
  },
  {
   "cell_type": "code",
   "execution_count": 22,
   "id": "0d9b609b",
   "metadata": {},
   "outputs": [
    {
     "name": "stdout",
     "output_type": "stream",
     "text": [
      "None\n"
     ]
    }
   ],
   "source": [
    "print(dic1.get(\"age\"))"
   ]
  },
  {
   "cell_type": "code",
   "execution_count": 28,
   "id": "3ecd2c63",
   "metadata": {},
   "outputs": [
    {
     "data": {
      "text/plain": [
       "{'Key': 'Val', 'name': 'BG', 'phone': '010-1234-1234', 'birth': '01/01'}"
      ]
     },
     "execution_count": 28,
     "metadata": {},
     "output_type": "execute_result"
    }
   ],
   "source": [
    "dic1"
   ]
  },
  {
   "cell_type": "code",
   "execution_count": 25,
   "id": "4b842e01",
   "metadata": {},
   "outputs": [
    {
     "data": {
      "text/plain": [
       "['Key', 'name', 'phone', 'birth']"
      ]
     },
     "execution_count": 25,
     "metadata": {},
     "output_type": "execute_result"
    }
   ],
   "source": [
    "# keys() 함수 : 키 값들만 가져오기\n",
    "list(dic1.keys())"
   ]
  },
  {
   "cell_type": "code",
   "execution_count": 27,
   "id": "6d3599f9",
   "metadata": {},
   "outputs": [
    {
     "data": {
      "text/plain": [
       "['Val', 'BG', '010-1234-1234', '01/01']"
      ]
     },
     "execution_count": 27,
     "metadata": {},
     "output_type": "execute_result"
    }
   ],
   "source": [
    "# values() 함수 : 벨류값듦나 가져오기\n",
    "list(dic1.values())"
   ]
  },
  {
   "attachments": {
    "image.png": {
     "image/png": "[encoded data removed]"
    }
   },
   "cell_type": "markdown",
   "id": "068eda9a",
   "metadata": {},
   "source": [
    "![image.png](attachment:image.png)"
   ]
  },
  {
   "cell_type": "code",
   "execution_count": 29,
   "id": "288679f9",
   "metadata": {},
   "outputs": [
    {
     "name": "stdout",
     "output_type": "stream",
     "text": [
      "Key\n",
      "name\n",
      "phone\n",
      "birth\n"
     ]
    }
   ],
   "source": [
    "# 딕셔너리는 순서가 없으나, for문의 활용이 가능하다!\n",
    "for key in dic1.keys():\n",
    "    print(key)"
   ]
  },
  {
   "cell_type": "code",
   "execution_count": 34,
   "id": "0a21e0e7",
   "metadata": {},
   "outputs": [
    {
     "name": "stdout",
     "output_type": "stream",
     "text": [
      "('Key', 'Val')\n",
      "('name', 'BG')\n",
      "('phone', '010-1234-1234')\n",
      "('birth', '01/01')\n",
      "Key Val\n",
      "name BG\n",
      "phone 010-1234-1234\n",
      "birth 01/01\n"
     ]
    }
   ],
   "source": [
    "# 딕셔너리는 순서가 없으나, for문의 활용이 가능하다!\n",
    "# items() 함수 : (key,value) 튜플형태로 반환\n",
    "\n",
    "for key  in dic1.items():\n",
    "    print(key)\n",
    "    \n",
    "for key , value in dic1.items():\n",
    "    print(key,value)"
   ]
  },
  {
   "cell_type": "markdown",
   "id": "c7362cbf",
   "metadata": {},
   "source": [
    "### 딕셔너리 예제\n",
    "- 딕셔너리 for문 활용 예제"
   ]
  },
  {
   "cell_type": "code",
   "execution_count": 35,
   "id": "8be55dfc",
   "metadata": {},
   "outputs": [
    {
     "data": {
      "text/plain": [
       "{'이름': ['이주희', '조자연', '양세영', '김민수', '정봉균'],\n",
       " 'Python': [90, 100, 85, 90, 80],\n",
       " 'Java': [85, 80, 100, 95, 85],\n",
       " 'HTML,CSS': [75, 70, 90, 80, 90]}"
      ]
     },
     "execution_count": 35,
     "metadata": {},
     "output_type": "execute_result"
    }
   ],
   "source": [
    "score_dict = {'이름':['이주희','조자연','양세영','김민수','정봉균'],\n",
    "              'Python': [90,100,85,90,80],\n",
    "              'Java': [85,80,100,95,85],\n",
    "              'HTML,CSS': [75,70,90,80,90]}\n",
    "score_dict"
   ]
  },
  {
   "cell_type": "code",
   "execution_count": 40,
   "id": "8e4039de",
   "metadata": {},
   "outputs": [
    {
     "data": {
      "text/plain": [
       "89.0"
      ]
     },
     "execution_count": 40,
     "metadata": {},
     "output_type": "execute_result"
    }
   ],
   "source": [
    "# 1. python 점수의 평균 구하기 : sum함수\n",
    "py_avg = sum(score_dict['Python'])/5\n",
    "py_avg "
   ]
  },
  {
   "cell_type": "code",
   "execution_count": 47,
   "id": "2884a057",
   "metadata": {},
   "outputs": [
    {
     "data": {
      "text/plain": [
       "['Python', 'Java', 'HTML,CSS']"
      ]
     },
     "execution_count": 47,
     "metadata": {},
     "output_type": "execute_result"
    }
   ],
   "source": [
    "list(score_dict.keys())[1:]"
   ]
  },
  {
   "cell_type": "code",
   "execution_count": 48,
   "id": "cb6dc400",
   "metadata": {},
   "outputs": [
    {
     "name": "stdout",
     "output_type": "stream",
     "text": [
      "Python 평균 : 89.0\n",
      "Java 평균 : 89.0\n",
      "HTML,CSS 평균 : 81.0\n"
     ]
    }
   ],
   "source": [
    "py_avg ,j_avg , h_avg = 0,0,0\n",
    "py_avg = sum(score_dict['Python'])/5\n",
    "j_avg = sum(score_dict['Java'])/5\n",
    "h_avg = sum(score_dict['HTML,CSS'])/5\n",
    "\n",
    "print('Python 평균 :',py_avg)\n",
    "print('Java 평균 :',j_avg)\n",
    "print('HTML,CSS 평균 :',h_avg)"
   ]
  },
  {
   "cell_type": "code",
   "execution_count": 51,
   "id": "62696389",
   "metadata": {},
   "outputs": [
    {
     "name": "stdout",
     "output_type": "stream",
     "text": [
      "Python의 평균: 89.0\n",
      "Java의 평균: 89.0\n",
      "HTML,CSS의 평균: 81.0\n"
     ]
    }
   ],
   "source": [
    "# 2. 각 과목의 평균 구하기\n",
    "\n",
    "for i in list(score_dict.keys())[1:]:\n",
    "    avg = sum(score_dict[i])/5\n",
    "    print(f'{i}의 평균:',avg)"
   ]
  },
  {
   "cell_type": "markdown",
   "id": "d3dcabe0",
   "metadata": {},
   "source": [
    "### 딕셔너리 값 전체 삭제\n",
    "- 딕셔너리 모두 지우기 clear()"
   ]
  },
  {
   "cell_type": "code",
   "execution_count": 52,
   "id": "c754ceb0",
   "metadata": {
    "scrolled": true
   },
   "outputs": [
    {
     "data": {
      "text/plain": [
       "{'이름': ['이주희', '조자연', '양세영', '김민수', '정봉균'],\n",
       " 'Python': [90, 100, 85, 90, 80],\n",
       " 'Java': [85, 80, 100, 95, 85],\n",
       " 'HTML,CSS': [75, 70, 90, 80, 90]}"
      ]
     },
     "execution_count": 52,
     "metadata": {},
     "output_type": "execute_result"
    }
   ],
   "source": [
    "score_dict"
   ]
  },
  {
   "cell_type": "code",
   "execution_count": 54,
   "id": "117ae427",
   "metadata": {},
   "outputs": [],
   "source": [
    "score_dict.clear()"
   ]
  },
  {
   "cell_type": "code",
   "execution_count": 55,
   "id": "028f479a",
   "metadata": {},
   "outputs": [
    {
     "data": {
      "text/plain": [
       "{}"
      ]
     },
     "execution_count": 55,
     "metadata": {},
     "output_type": "execute_result"
    }
   ],
   "source": [
    "score_dict"
   ]
  },
  {
   "cell_type": "markdown",
   "id": "d89e73ba",
   "metadata": {},
   "source": [
    "### 집합 자료형\n",
    "- 중복을 허용하지 않음\n",
    "- 순서가 없음\n",
    "- 서로 다른 자료형을 가질 수 있으나 가변형 데이터는 값으로 못가짐\n",
    "\n",
    "* 사용 경우 -> ex) 데이터  중복되는 걸 없애는 경우, 교집합 차집합 여집합"
   ]
  },
  {
   "cell_type": "code",
   "execution_count": 29,
   "id": "baf14f92",
   "metadata": {},
   "outputs": [
    {
     "name": "stdout",
     "output_type": "stream",
     "text": [
      "<class 'set'>\n"
     ]
    }
   ],
   "source": [
    "# 집합 사용 방법1\n",
    "s1 = set([1,2,3])\n",
    "print(type(s1))"
   ]
  },
  {
   "cell_type": "code",
   "execution_count": 40,
   "id": "47a65210",
   "metadata": {},
   "outputs": [
    {
     "name": "stdout",
     "output_type": "stream",
     "text": [
      "<class 'set'>\n"
     ]
    }
   ],
   "source": [
    "# 집합 사용 방법2\n",
    "s1 = {1,2,3}\n",
    "print(type(s1))"
   ]
  },
  {
   "cell_type": "code",
   "execution_count": 44,
   "id": "c9269f56",
   "metadata": {},
   "outputs": [
    {
     "data": {
      "text/plain": [
       "{1, 2, 3, 4}"
      ]
     },
     "execution_count": 44,
     "metadata": {},
     "output_type": "execute_result"
    }
   ],
   "source": [
    "list1 = [1,2,3,3,3,4,4,4]\n",
    "list1\n",
    "set1 = {1,2,2,2,3,3,3,4,4,4}\n",
    "set1"
   ]
  },
  {
   "cell_type": "code",
   "execution_count": 31,
   "id": "e431ae4d",
   "metadata": {
    "scrolled": true
   },
   "outputs": [
    {
     "data": {
      "text/plain": [
       "[1, 2, 3, 4]"
      ]
     },
     "execution_count": 31,
     "metadata": {},
     "output_type": "execute_result"
    }
   ],
   "source": [
    "# 집합 사용 예시1 - 리스트 데이터 중복 없애기\n",
    "list1=[1,2,2,2,3,3,4]\n",
    "list2 = list(set(list1)) # 집합은 중복 허용 하지 않는 특성 활용\n",
    "list2"
   ]
  },
  {
   "cell_type": "code",
   "execution_count": null,
   "id": "e6556e0b",
   "metadata": {},
   "outputs": [],
   "source": []
  },
  {
   "cell_type": "code",
   "execution_count": 56,
   "id": "cb3f7502",
   "metadata": {},
   "outputs": [
    {
     "name": "stdout",
     "output_type": "stream",
     "text": [
      "{'O', 'E', 'L', 'H'}\n"
     ]
    }
   ],
   "source": [
    "# 집합 사용 예시2\n",
    "\"HELLO\"\n",
    "\n",
    "s1 = set(\"HELLO\")\n",
    "print(s1) # 결과 값을 보면 집합은 순서가 없다는 것을 알 수 있음"
   ]
  },
  {
   "cell_type": "code",
   "execution_count": 57,
   "id": "ba390729",
   "metadata": {},
   "outputs": [
    {
     "ename": "TypeError",
     "evalue": "unhashable type: 'list'",
     "output_type": "error",
     "traceback": [
      "\u001b[1;31m---------------------------------------------------------------------------\u001b[0m",
      "\u001b[1;31mTypeError\u001b[0m                                 Traceback (most recent call last)",
      "Cell \u001b[1;32mIn[57], line 3\u001b[0m\n\u001b[0;32m      1\u001b[0m s1 \u001b[38;5;241m=\u001b[39m {\u001b[38;5;124m\"\u001b[39m\u001b[38;5;124ma\u001b[39m\u001b[38;5;124m\"\u001b[39m,\u001b[38;5;241m12\u001b[39m,\u001b[38;5;241m1.3\u001b[39m} \u001b[38;5;66;03m# 가능\u001b[39;00m\n\u001b[1;32m----> 3\u001b[0m s2 \u001b[38;5;241m=\u001b[39m {\u001b[38;5;124m'\u001b[39m\u001b[38;5;124ma\u001b[39m\u001b[38;5;124m'\u001b[39m,\u001b[38;5;241m12\u001b[39m,[\u001b[38;5;241m3\u001b[39m,\u001b[38;5;241m4\u001b[39m]} \u001b[38;5;66;03m# Error! 리스트(가변형) \u001b[39;00m\n\u001b[0;32m      4\u001b[0m s3 \u001b[38;5;241m=\u001b[39m {\u001b[38;5;124m'\u001b[39m\u001b[38;5;124ma\u001b[39m\u001b[38;5;124m'\u001b[39m,\u001b[38;5;241m12\u001b[39m,{\u001b[38;5;241m3\u001b[39m,\u001b[38;5;241m4\u001b[39m}} \u001b[38;5;66;03m# Error! 집합(가변형)\u001b[39;00m\n\u001b[0;32m      5\u001b[0m s4 \u001b[38;5;241m=\u001b[39m {\u001b[38;5;124m'\u001b[39m\u001b[38;5;124ma\u001b[39m\u001b[38;5;124m'\u001b[39m,\u001b[38;5;241m12\u001b[39m,{\u001b[38;5;124m'\u001b[39m\u001b[38;5;124mname\u001b[39m\u001b[38;5;124m'\u001b[39m : \u001b[38;5;124m'\u001b[39m\u001b[38;5;124my\u001b[39m\u001b[38;5;124m'\u001b[39m}}\n",
      "\u001b[1;31mTypeError\u001b[0m: unhashable type: 'list'"
     ]
    }
   ],
   "source": [
    "s1 = {\"a\",12,1.3} # 가능\n",
    "\n",
    "s2 = {'a',12,[3,4]} # Error! 리스트(가변형) \n",
    "s3 = {'a',12,{3,4}} # Error! 집합(가변형)\n",
    "s4 = {'a',12,{'name' : 'y'}} # Error! 딕셔너리(가변형)"
   ]
  },
  {
   "cell_type": "code",
   "execution_count": 33,
   "id": "d0ac0018",
   "metadata": {},
   "outputs": [
    {
     "name": "stdout",
     "output_type": "stream",
     "text": [
      "{4, 5, 6, 7}\n",
      "{4, 5, 6, 7}\n"
     ]
    }
   ],
   "source": [
    "# 집합 사용예사3 - 교집합\n",
    "s1 = {1,2,3,4,5,6,7}\n",
    "s2 = {4,5,6,7,8,9,10}\n",
    "# 방법1\n",
    "print(s1&s2)\n",
    "# 방법2\n",
    "print(s1.intersection(s2))"
   ]
  },
  {
   "cell_type": "code",
   "execution_count": 54,
   "id": "26e6ab1e",
   "metadata": {},
   "outputs": [
    {
     "name": "stdout",
     "output_type": "stream",
     "text": [
      "{10, 3, 7}\n"
     ]
    }
   ],
   "source": [
    "A = {1,3,7,10}\n",
    "B = {3,6,10,7}\n",
    "\n",
    "print(A&B)"
   ]
  },
  {
   "cell_type": "code",
   "execution_count": 34,
   "id": "2ddbdfeb",
   "metadata": {
    "scrolled": true
   },
   "outputs": [
    {
     "name": "stdout",
     "output_type": "stream",
     "text": [
      "{1, 2, 3, 4, 5, 6, 7, 8, 9, 10}\n",
      "{1, 2, 3, 4, 5, 6, 7, 8, 9, 10}\n"
     ]
    }
   ],
   "source": [
    "# 집합 사용예시4 - 합집합\n",
    "s1 = {1,2,3,4,5,6,7}\n",
    "s2 = {4,5,6,7,8,9,10}\n",
    "# 방법 1\n",
    "print(s1|s2)\n",
    "# 방법2\n",
    "print(s1.union(s2))"
   ]
  },
  {
   "cell_type": "code",
   "execution_count": 35,
   "id": "4458eb03",
   "metadata": {},
   "outputs": [
    {
     "name": "stdout",
     "output_type": "stream",
     "text": [
      "{1, 2, 3}\n",
      "{1, 2, 3}\n"
     ]
    }
   ],
   "source": [
    "# 집합 사용예시4 - 차집합\n",
    "s1 = {1,2,3,4,5,6,7}\n",
    "s2 = {4,5,6,7,8,9,10}\n",
    "# 방법1\n",
    "print(s1-s2)\n",
    "# 방법2\n",
    "print(s1.difference(s2))"
   ]
  },
  {
   "cell_type": "code",
   "execution_count": 55,
   "id": "d475e52a",
   "metadata": {},
   "outputs": [
    {
     "name": "stdout",
     "output_type": "stream",
     "text": [
      "{1, 2, 3, 8, 9, 10}\n",
      "{1, 2, 3, 8, 9, 10}\n"
     ]
    }
   ],
   "source": [
    "# 집합 사용예시5- 대칭 차집합\n",
    "s1 = {1,2,3,4,5,6,7}\n",
    "s2 = {4,5,6,7,8,9,10}\n",
    "# 방법1\n",
    "print(s1^s2)\n",
    "# 방법2\n",
    "print(s1.symmetric_difference(s2))"
   ]
  },
  {
   "cell_type": "markdown",
   "id": "8c88ac29",
   "metadata": {},
   "source": [
    "#### 집합 추가/삭제\n",
    "- 추가\n",
    "    - 값 1개 추가시 add()\n",
    "    - 값 여러개 추가시 update()\n",
    "- 삭제\n",
    "    - 특정값 제거 remove()"
   ]
  },
  {
   "cell_type": "code",
   "execution_count": 36,
   "id": "148e55f5",
   "metadata": {},
   "outputs": [
    {
     "data": {
      "text/plain": [
       "{1, 2, 3, 4}"
      ]
     },
     "execution_count": 36,
     "metadata": {},
     "output_type": "execute_result"
    }
   ],
   "source": [
    "# 값 1개 추가시 add()\n",
    "s1 = set([1,2,3])\n",
    "s1.add(4)\n",
    "s1"
   ]
  },
  {
   "cell_type": "code",
   "execution_count": 37,
   "id": "22b43468",
   "metadata": {},
   "outputs": [
    {
     "data": {
      "text/plain": [
       "{1, 2, 3, 4, 5, 6}"
      ]
     },
     "execution_count": 37,
     "metadata": {},
     "output_type": "execute_result"
    }
   ],
   "source": [
    "# 값 여러개 추가시 update()\n",
    "s1.update([1,2,3,4,5,6]) # 기존 있던 것과 중복되는 건 제외하고 추가\n",
    "s1"
   ]
  },
  {
   "cell_type": "code",
   "execution_count": 38,
   "id": "aebe9181",
   "metadata": {},
   "outputs": [
    {
     "data": {
      "text/plain": [
       "{1, 2, 3, 4, 5}"
      ]
     },
     "execution_count": 38,
     "metadata": {},
     "output_type": "execute_result"
    }
   ],
   "source": [
    "# 특정값 제거 remove()\n",
    "s1.remove(6)\n",
    "s1"
   ]
  },
  {
   "cell_type": "code",
   "execution_count": null,
   "id": "397188ca",
   "metadata": {},
   "outputs": [],
   "source": []
  },
  {
   "cell_type": "code",
   "execution_count": null,
   "id": "a3fa1e9c",
   "metadata": {},
   "outputs": [],
   "source": []
  }
 ],
 "metadata": {
  "kernelspec": {
   "display_name": "Python 3 (ipykernel)",
   "language": "python",
   "name": "python3"
  },
  "language_info": {
   "codemirror_mode": {
    "name": "ipython",
    "version": 3
   },
   "file_extension": ".py",
   "mimetype": "text/x-python",
   "name": "python",
   "nbconvert_exporter": "python",
   "pygments_lexer": "ipython3",
   "version": "3.11.3"
  }
 },
 "nbformat": 4,
 "nbformat_minor": 5
}
