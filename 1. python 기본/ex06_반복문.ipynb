{
 "cells": [
  {
   "cell_type": "markdown",
   "id": "59f68b32",
   "metadata": {},
   "source": [
    "# 반복문(while , for문)\n",
    "- 프로그램 내에서 똑같은 명령을 일정 횟수만큼 반복하여 수행하도록 제어하는 명령문\n",
    "     - while문 : 반복횟수가 명확하지 않을 때\n",
    "     - for문 : 반복횟수가 명확할 때\n",
    "     - 오류가 나면 띄어쓰기를 잘 보자!!!!!!"
   ]
  },
  {
   "cell_type": "markdown",
   "id": "c6a148ad",
   "metadata": {},
   "source": [
    "### while문\n",
    "- break : 반복문을 강제로 멈추는 기능(반복문을 나가는 기능)"
   ]
  },
  {
   "cell_type": "code",
   "execution_count": 1,
   "id": "55351d27",
   "metadata": {},
   "outputs": [
    {
     "name": "stdout",
     "output_type": "stream",
     "text": [
      "1\n",
      "2\n",
      "3\n"
     ]
    }
   ],
   "source": [
    "number = 1\n",
    "while number <=3: # : 주의!\n",
    "    print(number) # 들여쓰기 주의!!\n",
    "    number += 1"
   ]
  },
  {
   "cell_type": "code",
   "execution_count": 5,
   "id": "7d2ab638",
   "metadata": {},
   "outputs": [
    {
     "name": "stdout",
     "output_type": "stream",
     "text": [
      "1 파이썬 최고 !\n",
      "2 파이썬 최고 !\n",
      "3 파이썬 최고 !\n",
      "4 파이썬 최고 !\n",
      "5 파이썬 최고 !\n",
      "6 파이썬 최고 !\n",
      "7 파이썬 최고 !\n",
      "8 파이썬 최고 !\n",
      "9 파이썬 최고 !\n",
      "10 파이썬 최고 !\n",
      "11 파이썬 최고 !\n",
      "12 파이썬 최고 !\n",
      "13 파이썬 최고 !\n"
     ]
    }
   ],
   "source": [
    "# while문을 사용해서 \"파이썬 최고!\"를 13번 출력\n",
    "# 조건이 'True'일 때 실행, 'False' 일 때 반복문 종료\n",
    "\n",
    "cnt= 1\n",
    "while cnt <=13:\n",
    "    print(f'{cnt} 파이썬 최고 !')\n",
    "    cnt+=1"
   ]
  },
  {
   "cell_type": "markdown",
   "id": "3919c6b5",
   "metadata": {},
   "source": [
    "#### while문 예제\n",
    "- 두개의 정수를 입력받아서 더하는 코드를 작성하시오.\n",
    " - (단, 두개의 정수가 0이 들어올 때까지 반복한다.)\n"
   ]
  },
  {
   "cell_type": "code",
   "execution_count": 18,
   "id": "ea445ec2",
   "metadata": {},
   "outputs": [
    {
     "name": "stdout",
     "output_type": "stream",
     "text": [
      "첫 번째 정수 입력 >> 4\n",
      "두 번째 정수 입력 >> 4\n",
      "두 정수의 합 :  8\n",
      "첫 번째 정수 입력 >> 0\n",
      "두 번째 정수 입력 >> 0\n",
      "프로그램이 종료되었습니다.\n"
     ]
    }
   ],
   "source": [
    "# 1. 두개 정수 입력 먼저 받아보기\n",
    "# 2.결과화면을 살펴보니 입력부분이 계속 반복이네요 ! 입력을 반복문 안에 넣어주기 ! \n",
    "# 3. 반복문안에서 입력이 0,0이 들어왔는지를 판별하는 조건식, 맞으면 멈추는 코드 작성\n",
    "# 4. 0,0이 아니라면 두 정수의 합을 계산하는 연산코드 작성\n",
    "\n",
    "while True :\n",
    "    num1 = int(input(\"첫 번째 정수 입력 >> \"))\n",
    "    num2 = int(input(\"두 번째 정수 입력 >> \"))  \n",
    "    if num1==0 and num2==0 :\n",
    "        break   \n",
    "    re = num1 + num2\n",
    "    print('두 정수의 합 : ', re)        \n",
    "print('프로그램이 종료되었습니다.')\n"
   ]
  },
  {
   "cell_type": "markdown",
   "id": "58afcebd",
   "metadata": {},
   "source": [
    "### For문\n",
    "- 시퀀스 자료구조(문자열 or 튜플 or 리스트 등)의 안에 있는 요소들을 하나씩 꺼내서<br> 반복을 수행\n",
    "- 요소의 개수만큼 반복이 수행됨"
   ]
  },
  {
   "cell_type": "code",
   "execution_count": 19,
   "id": "2a0be42c",
   "metadata": {},
   "outputs": [
    {
     "name": "stdout",
     "output_type": "stream",
     "text": [
      "햄버거\n",
      "치킨\n",
      "피자\n"
     ]
    }
   ],
   "source": [
    "list_food = [\"햄버거\",\"치킨\",\"피자\"]\n",
    "for food in list_food: # 리스트 안에 있는 값을 food변수에 담아 반복 출력\n",
    "    print(food)"
   ]
  },
  {
   "cell_type": "code",
   "execution_count": 27,
   "id": "8b0ac08c",
   "metadata": {},
   "outputs": [
    {
     "name": "stdout",
     "output_type": "stream",
     "text": [
      "안\n",
      "녕\n",
      "하\n",
      "세\n",
      "요\n"
     ]
    }
   ],
   "source": [
    "hi = \"안녕하세요\"\n",
    "for h in hi:\n",
    "    print(h)"
   ]
  },
  {
   "cell_type": "code",
   "execution_count": 26,
   "id": "52aa98dd",
   "metadata": {},
   "outputs": [
    {
     "name": "stdout",
     "output_type": "stream",
     "text": [
      "1번 학생은 합격입니다.\n",
      "2번 학생은 불합격입니다.\n",
      "3번 학생은 합격입니다.\n",
      "4번 학생은 합격입니다.\n",
      "5번 학생은 불합격입니다.\n"
     ]
    }
   ],
   "source": [
    "# for문 예제\n",
    "# 자격증 시험 점수가 담긴 리스트가 있음, 합격점수인지 불합격인지 판별(60점이상)\n",
    "score_list = [90, 45, 70, 60, 55]\n",
    "cnt = 0\n",
    "\n",
    "for score in score_list:\n",
    "    cnt+=1\n",
    "    if score >= 60:\n",
    "        print(f'{cnt}번 학생은 합격입니다.')\n",
    "    else :\n",
    "        print(f'{cnt}번 학생은 불합격입니다.')"
   ]
  },
  {
   "cell_type": "markdown",
   "id": "77d2e4f1",
   "metadata": {},
   "source": [
    "#### range()함수\n",
    "- 필요한 만큼의 숫자를 만들어내는 유용한 기능\n",
    "- range(시작할 숫자, 종료할 숫자, 증가량)\n",
    "- <b>시작할 숫자와 증가량은 생략가능</b>\n",
    "<br>보폭 값을 지정하고 싶을 때는 시작값 생략 불가\n",
    "- <b>끝값 포함X</b> \n",
    "  <br>ex) range(1,100,3) -> 1부터 99씩 3씩 증가\n",
    "- <b>증가량은 (-) 가능</b> ->감소!\n",
    "  <br>ex) range(10,0,-1) -> 10부터 1까지 1씩 감소"
   ]
  },
  {
   "cell_type": "code",
   "execution_count": 48,
   "id": "0f66001b",
   "metadata": {},
   "outputs": [
    {
     "name": "stdout",
     "output_type": "stream",
     "text": [
      "0 1 2 3 4 5 6 7 8 9 "
     ]
    }
   ],
   "source": [
    "for i in range(10):\n",
    "    print(i, end=\" \")"
   ]
  },
  {
   "cell_type": "code",
   "execution_count": 47,
   "id": "5f5c7104",
   "metadata": {},
   "outputs": [
    {
     "name": "stdout",
     "output_type": "stream",
     "text": [
      "10 9 8 7 6 5 4 3 2 1 "
     ]
    }
   ],
   "source": [
    "for i in range(10,0,-1):\n",
    "    print(i,end=\" \")"
   ]
  },
  {
   "cell_type": "code",
   "execution_count": null,
   "id": "9003e4f0",
   "metadata": {},
   "outputs": [],
   "source": []
  },
  {
   "cell_type": "code",
   "execution_count": 50,
   "id": "4be654fb",
   "metadata": {},
   "outputs": [
    {
     "name": "stdout",
     "output_type": "stream",
     "text": [
      "97 96 95 94 93 92 91 90 89 88 87 86 85 84 83 82 81 80 79 78 77 \n",
      "23 24 25 26 27 28 29 30 31 32 33 34 35 36 37 38 39 "
     ]
    }
   ],
   "source": [
    "#예제1. 97~77 출력\n",
    "for i in range(97,76,-1):\n",
    "    print(i ,end =\" \")   \n",
    "print() #개행\n",
    "#예제2. 23~39 출력\n",
    "for i in range(23,40,1):\n",
    "    print(i, end=\" \")"
   ]
  },
  {
   "cell_type": "code",
   "execution_count": 57,
   "id": "d7dca703",
   "metadata": {},
   "outputs": [
    {
     "name": "stdout",
     "output_type": "stream",
     "text": [
      "99\n"
     ]
    }
   ],
   "source": [
    "# 예제3. 최댓값 구하기\n",
    "list2 = [4,5,2,1,99,15,2,7,27]\n",
    "max1 = list2[0]\n",
    "for num in list2: \n",
    "    if num > max1:\n",
    "        max1 = num\n",
    "print(max1)"
   ]
  },
  {
   "cell_type": "code",
   "execution_count": 82,
   "id": "e14d5206",
   "metadata": {},
   "outputs": [
    {
     "name": "stdout",
     "output_type": "stream",
     "text": [
      "*\n",
      "**\n",
      "***\n",
      "****\n",
      "*****\n",
      "******\n",
      "*******\n",
      "********\n"
     ]
    }
   ],
   "source": [
    "# 별찍기\n",
    "# 1. 8줄 별찍기!\n",
    "\n",
    "for i in range(1,9):\n",
    "    print('*'*i)"
   ]
  },
  {
   "cell_type": "code",
   "execution_count": 83,
   "id": "5d79daa5",
   "metadata": {},
   "outputs": [
    {
     "name": "stdout",
     "output_type": "stream",
     "text": [
      "정수를 입력해주세요>>5\n",
      "*\n",
      "**\n",
      "***\n",
      "****\n",
      "*****\n"
     ]
    }
   ],
   "source": [
    "# 2. 입력받은 수 만큼 별찍기 ! (ex_5를 입력하면 5줄!)\n",
    "\n",
    "num5 = int(input('정수를 입력해주세요>>'))\n",
    "for i in range(1,num5+1):\n",
    "    print('*'*i)"
   ]
  },
  {
   "cell_type": "code",
   "execution_count": 87,
   "id": "dcc5ce10",
   "metadata": {},
   "outputs": [
    {
     "name": "stdout",
     "output_type": "stream",
     "text": [
      "*\n",
      "**\n",
      "***\n",
      "****\n",
      "*****\n",
      "******\n",
      "*****\n",
      "****\n",
      "***\n",
      "**\n",
      "*\n"
     ]
    }
   ],
   "source": [
    "# 3. 증가했다가 내려가기\n",
    "\n",
    "for i in range(1,7):\n",
    "    print('*'*i)\n",
    "for i in range(5,0,-1):\n",
    "    print('*'*i)"
   ]
  },
  {
   "cell_type": "markdown",
   "id": "527b6d15",
   "metadata": {},
   "source": [
    "#### 반복문 최종 실습\n",
    "- 나만의 키오스크 메뉴 만들기"
   ]
  },
  {
   "cell_type": "code",
   "execution_count": 94,
   "id": "aea07540",
   "metadata": {},
   "outputs": [
    {
     "name": "stdout",
     "output_type": "stream",
     "text": [
      "=== 키오스크 ===\n",
      "키오스크에 오신 것을 환영합니다!\n",
      "\n",
      "q를 눌러 종료하세요 >>d\n",
      "=== 키오스크 ===\n",
      "키오스크에 오신 것을 환영합니다!\n",
      "\n",
      "q를 눌러 종료하세요 >>q\n"
     ]
    }
   ],
   "source": [
    "# 1단계 - while문의 '조건식'이해\n",
    "# 사용자가 'q'를 입력할 때까지 환영문을 출력하고,\n",
    "# 사용자가 입력을 받는 프로그램 만들기\n",
    "user_input= ''\n",
    "while user_input != 'q' :\n",
    "    print('=== 키오스크 ===')\n",
    "    print('키오스크에 오신 것을 환영합니다!\\n')\n",
    "    user_input = input('q를 눌러 종료하세요 >>')"
   ]
  },
  {
   "cell_type": "code",
   "execution_count": 108,
   "id": "9829bf4e",
   "metadata": {},
   "outputs": [
    {
     "name": "stdout",
     "output_type": "stream",
     "text": [
      "=== 키오스크 메뉴 ===\n",
      "1. 햄버거\n",
      "2. 피자\n",
      "3. 음료수\n",
      "메뉴를 선택하거나 'q'를 눌러 종료하세요 >>q\n"
     ]
    }
   ],
   "source": [
    "# 2단계 - 'list'활용과 while문\n",
    "# 주어진 메뉴 리스트를 출력하고, 사용자가 q를 입력할 때까지\n",
    "# 메뉴 선택을 받는 프로그램 작성\n",
    "\n",
    "menu = ['햄버거','피자','음료수']\n",
    "user_input= ''\n",
    "\n",
    "while user_input != 'q' :\n",
    "    cnt = 0\n",
    "    print('=== 키오스크 메뉴 ===')\n",
    "    for i in menu:\n",
    "        cnt+=1\n",
    "        print(f'{cnt}. {i}')\n",
    "    user_input = input(\"메뉴를 선택하거나 'q'를 눌러 종료하세요 >>\")"
   ]
  },
  {
   "cell_type": "code",
   "execution_count": 117,
   "id": "671b1987",
   "metadata": {},
   "outputs": [
    {
     "name": "stdout",
     "output_type": "stream",
     "text": [
      "=== 키오스크 메뉴 ===\n",
      "1. 햄버거\n",
      "2. 피자\n",
      "3. 음료수\n",
      "메뉴를 선택하거나 'q'를 눌러 종료하세요 >>1\n",
      "\n",
      "햄버거를 만들었습니다.\n",
      "\n",
      "------------------------------\n",
      "=== 키오스크 메뉴 ===\n",
      "1. 햄버거\n",
      "2. 피자\n",
      "3. 음료수\n",
      "메뉴를 선택하거나 'q'를 눌러 종료하세요 >>2\n",
      "\n",
      "피자를 만들었습니다.\n",
      "\n",
      "------------------------------\n",
      "=== 키오스크 메뉴 ===\n",
      "1. 햄버거\n",
      "2. 피자\n",
      "3. 음료수\n",
      "메뉴를 선택하거나 'q'를 눌러 종료하세요 >>q\n",
      "=== 주문한 메뉴 ===\n",
      "햄버거\n",
      "피자\n"
     ]
    }
   ],
   "source": [
    "# 3단계 - 조건문 활용과 while문\n",
    "# 주어진 메뉴 리스트를 출력하고,\n",
    "# 사용자가 'q'를 입력하거나,\n",
    "# 모든 메뉴를 선택할 때까지 -> 메뉴 3개까지\n",
    "# 메뉴 선택을 받는 프로그램을 작성\n",
    "\n",
    "menu = ['햄버거','피자','음료수']\n",
    "user_input= ''\n",
    "order = []\n",
    "while len(order) < len(menu):\n",
    "    cnt = 0\n",
    "    print('=== 키오스크 메뉴 ===')\n",
    "    for i in menu:\n",
    "        cnt+=1\n",
    "        print(f'{cnt}. {i}')\n",
    "    user_input = input(\"메뉴를 선택하거나 'q'를 눌러 종료하세요 >>\")\n",
    "    if user_input == 'q':\n",
    "        break\n",
    "    else :\n",
    "        order.append(menu[int(user_input)-1])\n",
    "        print(f'\\n{menu[int(user_input)-1]}를 만들었습니다.\\n')\n",
    "        print('-'*30)\n",
    "print(\"=== 주문한 메뉴 ===\")\n",
    "for item in order :\n",
    "    print(item)"
   ]
  },
  {
   "cell_type": "markdown",
   "id": "78b03775",
   "metadata": {},
   "source": [
    "#### continue\n",
    "- while문의 조건식으로 다시 올라가서 진행"
   ]
  },
  {
   "cell_type": "code",
   "execution_count": 119,
   "id": "fb448559",
   "metadata": {},
   "outputs": [
    {
     "name": "stdout",
     "output_type": "stream",
     "text": [
      "=== 키오스크 메뉴 ===\n",
      "1. 햄버거\n",
      "2. 피자\n",
      "3. 음료수\n",
      "메뉴를 선택하거나 'q'를 눌러 종료하세요 >>4\n",
      "\n",
      "올바른 메뉴 번호를 선택해주세요.\n",
      "\n",
      "------------------------------\n",
      "=== 키오스크 메뉴 ===\n",
      "1. 햄버거\n",
      "2. 피자\n",
      "3. 음료수\n",
      "메뉴를 선택하거나 'q'를 눌러 종료하세요 >>5\n",
      "\n",
      "올바른 메뉴 번호를 선택해주세요.\n",
      "\n",
      "------------------------------\n",
      "=== 키오스크 메뉴 ===\n",
      "1. 햄버거\n",
      "2. 피자\n",
      "3. 음료수\n",
      "메뉴를 선택하거나 'q'를 눌러 종료하세요 >>1\n",
      "\n",
      "햄버거를 만들었습니다.\n",
      "\n",
      "------------------------------\n",
      "=== 키오스크 메뉴 ===\n",
      "1. 햄버거\n",
      "2. 피자\n",
      "3. 음료수\n",
      "메뉴를 선택하거나 'q'를 눌러 종료하세요 >>2\n",
      "\n",
      "피자를 만들었습니다.\n",
      "\n",
      "------------------------------\n",
      "=== 키오스크 메뉴 ===\n",
      "1. 햄버거\n",
      "2. 피자\n",
      "3. 음료수\n",
      "메뉴를 선택하거나 'q'를 눌러 종료하세요 >>3\n",
      "\n",
      "음료수를 만들었습니다.\n",
      "\n",
      "------------------------------\n",
      "=== 주문한 메뉴 ===\n",
      "햄버거\n",
      "피자\n",
      "음료수\n"
     ]
    }
   ],
   "source": [
    "# 4단계 : continue - while문의 조건식으로 다시 올라가서 진행\n",
    "\n",
    "menu = ['햄버거','피자','음료수']\n",
    "user_input= ''\n",
    "order = []\n",
    "while len(order) < len(menu):\n",
    "    cnt = 0\n",
    "    print('=== 키오스크 메뉴 ===')\n",
    "    for i in menu:\n",
    "        cnt+=1\n",
    "        print(f'{cnt}. {i}')\n",
    "    user_input = input(\"메뉴를 선택하거나 'q'를 눌러 종료하세요 >>\")\n",
    "    if user_input == 'q':\n",
    "        break\n",
    "    elif int(user_input not in ['1','2','3']):\n",
    "        print('\\n올바른 메뉴 번호를 선택해주세요.\\n')\n",
    "        print('-'*30)\n",
    "        continue\n",
    "    else :\n",
    "        order.append(menu[int(user_input)-1])\n",
    "        print(f'\\n{menu[int(user_input)-1]}를 만들었습니다.\\n')\n",
    "        print('-'*30)\n",
    "print(\"=== 주문한 메뉴 ===\")\n",
    "for item in order :\n",
    "    print(item)"
   ]
  }
 ],
 "metadata": {
  "kernelspec": {
   "display_name": "Python 3 (ipykernel)",
   "language": "python",
   "name": "python3"
  },
  "language_info": {
   "codemirror_mode": {
    "name": "ipython",
    "version": 3
   },
   "file_extension": ".py",
   "mimetype": "text/x-python",
   "name": "python",
   "nbconvert_exporter": "python",
   "pygments_lexer": "ipython3",
   "version": "3.11.3"
  }
 },
 "nbformat": 4,
 "nbformat_minor": 5
}
