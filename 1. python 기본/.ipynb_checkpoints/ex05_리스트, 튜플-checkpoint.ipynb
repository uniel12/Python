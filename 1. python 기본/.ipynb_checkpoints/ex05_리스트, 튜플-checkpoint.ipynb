{
 "cells": [
  {
   "cell_type": "markdown",
   "id": "af8c1589",
   "metadata": {},
   "source": [
    "## 리스트(list)\n",
    "- list\n",
    "- 파이썬의 자료 구조 형태 중 하나\n",
    "- 순서가 있는 수정가능한 객체의 집합 : <b>추가,수정,삭제 가능</b>\n",
    "- <b>대괄호([])로 작성</b>, 리스트 내부의 값은 콤마(,)로 구분\n",
    "- 하나의 리스트에 다양한 자료형 포함\n",
    "    - 리스트명 = [요소1, 요소2,요소3,....]\n",
    "    - 가변적이며 여러 자료형을 넣을 수도 있음\n",
    "    - 리스트 안에 리스트를 넣을 수도 있음"
   ]
  },
  {
   "cell_type": "markdown",
   "id": "38f6b87e",
   "metadata": {},
   "source": [
    "#### 리스트 인덱싱 \n",
    "- 리스트명[인덱스번호]"
   ]
  },
  {
   "cell_type": "markdown",
   "id": "f76caeaf",
   "metadata": {},
   "source": [
    "- 리스트 인덱싱 예제"
   ]
  },
  {
   "cell_type": "code",
   "execution_count": 2,
   "id": "2588ec2a",
   "metadata": {},
   "outputs": [
    {
     "data": {
      "text/plain": [
       "'b'"
      ]
     },
     "execution_count": 2,
     "metadata": {},
     "output_type": "execute_result"
    }
   ],
   "source": [
    "list2=[1, 2, 3,['a','b','c']]\n",
    "temp=list2[-1]\n",
    "temp[1]"
   ]
  },
  {
   "cell_type": "code",
   "execution_count": 3,
   "id": "5047a858",
   "metadata": {},
   "outputs": [
    {
     "data": {
      "text/plain": [
       "'b'"
      ]
     },
     "execution_count": 3,
     "metadata": {},
     "output_type": "execute_result"
    }
   ],
   "source": [
    "# 2차원 인덱싱\n",
    "list2[3][1]"
   ]
  },
  {
   "cell_type": "markdown",
   "id": "e6b07a64",
   "metadata": {},
   "source": [
    "#### 리스트 슬라이싱\n",
    "- 리스트명[start:end]\n",
    "- 시작 값은 '포함',끝값은 '미포함'"
   ]
  },
  {
   "cell_type": "code",
   "execution_count": 5,
   "id": "c6b60dfd",
   "metadata": {},
   "outputs": [
    {
     "data": {
      "text/plain": [
       "[1, 2]"
      ]
     },
     "execution_count": 5,
     "metadata": {},
     "output_type": "execute_result"
    }
   ],
   "source": [
    "list3=[0,1,2,3,4]\n",
    "# 1, 2 요소에 접근\n",
    "list3[1:3]"
   ]
  },
  {
   "cell_type": "markdown",
   "id": "aa1044c0",
   "metadata": {},
   "source": [
    "- list와 list를 더하면?"
   ]
  },
  {
   "cell_type": "code",
   "execution_count": 11,
   "id": "1b165c46",
   "metadata": {},
   "outputs": [
    {
     "data": {
      "text/plain": [
       "[1, 2, 3, 3, 4, 5, 6]"
      ]
     },
     "execution_count": 11,
     "metadata": {},
     "output_type": "execute_result"
    }
   ],
   "source": [
    "# list와 list를 더하면. 뒤로 붙게 된다.\n",
    "# 단, \"숫자 연산\" 안된다.값이 더해지지 않음\n",
    "list4 = [1,2,3]\n",
    "list5 = [3,4,5,6]\n",
    "list4 + list5"
   ]
  },
  {
   "cell_type": "markdown",
   "id": "83bbb58b",
   "metadata": {},
   "source": [
    "### 리스트 관련 함수\n",
    "#### 리스트 값 추가 : append(), insert()\n",
    "- 리스트.append(값) : 리스트의 맨 뒤에 값을 추가\n",
    "- 리스트.insert(인덱스위치, 값) : 사용자가 지정한 위치에 값을 추가\n",
    "\n",
    "#### 리스트 값 수정\n",
    "- 리스트.[인덱스] = 값 : 해당 위치에 값을 수정(새로 대입)\n",
    "\n",
    "#### 리스트 값 삭제 : remove(),del 객체\n",
    "- 리스트.remove(값) : 해당하는 값을 삭제\n",
    "- del 리스트[인덱스] : 해당하는 위치의 값을 삭제\n",
    "   - 값이 없는 경우에는 해당하는 리스트를 삭제"
   ]
  },
  {
   "cell_type": "code",
   "execution_count": 28,
   "id": "c87bb098",
   "metadata": {},
   "outputs": [
    {
     "data": {
      "text/plain": [
       "['사과', '배', '멜론', '포도', '복숭아']"
      ]
     },
     "execution_count": 28,
     "metadata": {},
     "output_type": "execute_result"
    }
   ],
   "source": [
    "# 리스트 값 추가\n",
    "list_fs=['사과','배','포도']\n",
    "list_fs.append('복숭아')\n",
    "list_fs.insert(2,'멜론')\n",
    "list_fs"
   ]
  },
  {
   "cell_type": "code",
   "execution_count": 29,
   "id": "c1a75563",
   "metadata": {},
   "outputs": [
    {
     "data": {
      "text/plain": [
       "['망고', '배', '멜론', '포도', '복숭아']"
      ]
     },
     "execution_count": 29,
     "metadata": {},
     "output_type": "execute_result"
    }
   ],
   "source": [
    "# 리스트 값 추가\n",
    "list_fs[0] = '망고' \n",
    "list_fs"
   ]
  },
  {
   "cell_type": "code",
   "execution_count": 30,
   "id": "1ede9ebc",
   "metadata": {},
   "outputs": [],
   "source": [
    "# 리스트 값 삭제\n",
    "list_fs.remove(\"배\")"
   ]
  },
  {
   "cell_type": "code",
   "execution_count": 31,
   "id": "de6fdc8f",
   "metadata": {},
   "outputs": [
    {
     "data": {
      "text/plain": [
       "['망고', '멜론', '포도', '복숭아']"
      ]
     },
     "execution_count": 31,
     "metadata": {},
     "output_type": "execute_result"
    }
   ],
   "source": [
    "list_fs"
   ]
  },
  {
   "cell_type": "code",
   "execution_count": 32,
   "id": "f629f21b",
   "metadata": {},
   "outputs": [],
   "source": [
    "del list_fs[3]"
   ]
  },
  {
   "cell_type": "code",
   "execution_count": 33,
   "id": "53e0be40",
   "metadata": {},
   "outputs": [
    {
     "data": {
      "text/plain": [
       "['망고', '멜론', '포도']"
      ]
     },
     "execution_count": 33,
     "metadata": {},
     "output_type": "execute_result"
    }
   ],
   "source": [
    "list_fs"
   ]
  },
  {
   "cell_type": "code",
   "execution_count": 34,
   "id": "296102b6",
   "metadata": {},
   "outputs": [],
   "source": [
    "# pop() : 해당하는 위치의 값을 삭제하는데, 남깁니다!!\n",
    "# (정처기 잘 나옴 실무X)\n",
    "melon = list_fs.pop(1)"
   ]
  },
  {
   "cell_type": "code",
   "execution_count": 35,
   "id": "fbdc9eef",
   "metadata": {},
   "outputs": [
    {
     "data": {
      "text/plain": [
       "['망고', '포도']"
      ]
     },
     "execution_count": 35,
     "metadata": {},
     "output_type": "execute_result"
    }
   ],
   "source": [
    "list_fs"
   ]
  },
  {
   "cell_type": "code",
   "execution_count": 36,
   "id": "b45f2b06",
   "metadata": {},
   "outputs": [
    {
     "data": {
      "text/plain": [
       "'멜론'"
      ]
     },
     "execution_count": 36,
     "metadata": {},
     "output_type": "execute_result"
    }
   ],
   "source": [
    "melon"
   ]
  },
  {
   "cell_type": "code",
   "execution_count": 37,
   "id": "06e5be36",
   "metadata": {},
   "outputs": [],
   "source": [
    "mango = list_fs.remove(\"망고\")"
   ]
  },
  {
   "cell_type": "code",
   "execution_count": 38,
   "id": "2fceeee3",
   "metadata": {},
   "outputs": [
    {
     "data": {
      "text/plain": [
       "['포도']"
      ]
     },
     "execution_count": 38,
     "metadata": {},
     "output_type": "execute_result"
    }
   ],
   "source": [
    "list_fs"
   ]
  },
  {
   "cell_type": "code",
   "execution_count": 39,
   "id": "b2fb6b25",
   "metadata": {},
   "outputs": [],
   "source": [
    "mango"
   ]
  },
  {
   "cell_type": "markdown",
   "id": "d1f40d47",
   "metadata": {},
   "source": [
    "### 리스트 정렬 : sort() , reverse()\n",
    "- 리스트.sort() : 오름차순으로 정렬\n",
    "- 리스트.reverse() : 요소들을 역순으로 뒤집기\n",
    "    - \"내림차순\" 을 하고 싶은 경우 : 리스트.sort() -> 리스트.reverse()"
   ]
  },
  {
   "cell_type": "markdown",
   "id": "c5abcc76",
   "metadata": {},
   "source": []
  },
  {
   "cell_type": "code",
   "execution_count": 44,
   "id": "dc56642e",
   "metadata": {},
   "outputs": [
    {
     "data": {
      "text/plain": [
       "[1, 5, 11, 19, 33, 45]"
      ]
     },
     "execution_count": 44,
     "metadata": {},
     "output_type": "execute_result"
    }
   ],
   "source": [
    "list_nums=[5,19,1,33,11,45]\n",
    "list_nums.sort()\n",
    "list_nums"
   ]
  },
  {
   "cell_type": "code",
   "execution_count": 45,
   "id": "4c3693df",
   "metadata": {},
   "outputs": [
    {
     "data": {
      "text/plain": [
       "[45, 11, 33, 1, 19, 5]"
      ]
     },
     "execution_count": 45,
     "metadata": {},
     "output_type": "execute_result"
    }
   ],
   "source": [
    "list_nums=[5,19,1,33,11,45]\n",
    "list_nums.reverse()\n",
    "list_nums"
   ]
  },
  {
   "cell_type": "code",
   "execution_count": 56,
   "id": "77f8cf93",
   "metadata": {},
   "outputs": [
    {
     "data": {
      "text/plain": [
       "[45, 33, 19, 11, 5, 1]"
      ]
     },
     "execution_count": 56,
     "metadata": {},
     "output_type": "execute_result"
    }
   ],
   "source": [
    "list_nums=[5,19,1,33,11,45]\n",
    "list_nums.sort()\n",
    "list_nums.reverse()\n",
    "list_nums"
   ]
  },
  {
   "cell_type": "markdown",
   "id": "2b533335",
   "metadata": {},
   "source": [
    "### 인덱싱 & 슬라이싱 구조\n",
    "- 리스트[start:end:step(보폭)]\n",
    "    - 보폭 값을 음수로 하면 reverse()대신 사용가능하다"
   ]
  },
  {
   "cell_type": "code",
   "execution_count": 2,
   "id": "c2990cf0",
   "metadata": {},
   "outputs": [
    {
     "data": {
      "text/plain": [
       "[19, 33, 45]"
      ]
     },
     "execution_count": 2,
     "metadata": {},
     "output_type": "execute_result"
    }
   ],
   "source": [
    "list_nums=[5,19,1,33,11,45]\n",
    "list_nums[1:6:2] # 보폭 생략시 1을 넣은 것과 같다"
   ]
  },
  {
   "cell_type": "code",
   "execution_count": 6,
   "id": "f55f7b62",
   "metadata": {},
   "outputs": [
    {
     "data": {
      "text/plain": [
       "[45, 11, 33, 1, 19, 5]"
      ]
     },
     "execution_count": 6,
     "metadata": {},
     "output_type": "execute_result"
    }
   ],
   "source": [
    "list_nums[::-1] # 보폭 음수로 쓸 때 첫값 끝값을 모두 생략해야함"
   ]
  },
  {
   "cell_type": "markdown",
   "id": "f6999b70",
   "metadata": {},
   "source": [
    "### 리스트 길이 확인 : len()\n",
    "- len(리스트) : 리스트의 길이를 반환"
   ]
  },
  {
   "cell_type": "code",
   "execution_count": 57,
   "id": "b020e938",
   "metadata": {},
   "outputs": [
    {
     "data": {
      "text/plain": [
       "6"
      ]
     },
     "execution_count": 57,
     "metadata": {},
     "output_type": "execute_result"
    }
   ],
   "source": [
    "len(list_nums)"
   ]
  },
  {
   "cell_type": "markdown",
   "id": "098686b2",
   "metadata": {},
   "source": [
    "## 튜플(tuple)\n",
    "- 파이썬의 자료형 중 하나\n",
    "- 순서(인덱스)가 있는 객체의 집합\n",
    "- 소괄호(<b>()</b>)로 작성되어지며, 튜플의 내부 요소들은 콤마(,)로 구분\n",
    "- <b>추가,수정,삭제 불가능</b>"
   ]
  },
  {
   "cell_type": "code",
   "execution_count": 8,
   "id": "80b43f75",
   "metadata": {},
   "outputs": [
    {
     "data": {
      "text/plain": [
       "(0, 1, 2, 3, ('a', 'b', 'c'), 5)"
      ]
     },
     "execution_count": 8,
     "metadata": {},
     "output_type": "execute_result"
    }
   ],
   "source": [
    "tuple1 =(0,1,2,3,('a','b','c'),5)\n",
    "tuple1"
   ]
  },
  {
   "cell_type": "code",
   "execution_count": 26,
   "id": "9913f5bc",
   "metadata": {},
   "outputs": [
    {
     "name": "stdout",
     "output_type": "stream",
     "text": [
      "2\n",
      "('a', 'b', 'c')\n",
      "c\n"
     ]
    }
   ],
   "source": [
    "# 튜플 인덱싱\n",
    "\n",
    "print(tuple1[2])\n",
    "print(tuple1[4])\n",
    "print(tuple1[4][2])"
   ]
  },
  {
   "cell_type": "code",
   "execution_count": 30,
   "id": "c56d0ff7",
   "metadata": {},
   "outputs": [
    {
     "name": "stdout",
     "output_type": "stream",
     "text": [
      "(1, 2)\n",
      "(2, 3, ('a', 'b', 'c'), 5)\n"
     ]
    }
   ],
   "source": [
    "# 튜플 슬라이싱\n",
    "\n",
    "print (tuple1[1:3])\n",
    "print(tuple1[2:])"
   ]
  },
  {
   "cell_type": "code",
   "execution_count": 31,
   "id": "69bf40e0",
   "metadata": {},
   "outputs": [
    {
     "data": {
      "text/plain": [
       "6"
      ]
     },
     "execution_count": 31,
     "metadata": {},
     "output_type": "execute_result"
    }
   ],
   "source": [
    "# 튜플 길이\n",
    "\n",
    "len(tuple1)"
   ]
  },
  {
   "cell_type": "code",
   "execution_count": 32,
   "id": "47270ce6",
   "metadata": {},
   "outputs": [
    {
     "ename": "TypeError",
     "evalue": "'tuple' object does not support item assignment",
     "output_type": "error",
     "traceback": [
      "\u001b[1;31m---------------------------------------------------------------------------\u001b[0m",
      "\u001b[1;31mTypeError\u001b[0m                                 Traceback (most recent call last)",
      "Cell \u001b[1;32mIn[32], line 2\u001b[0m\n\u001b[0;32m      1\u001b[0m \u001b[38;5;66;03m# 튜플은 추가, 수정 삭제가 불가능하다!!!!\u001b[39;00m\n\u001b[1;32m----> 2\u001b[0m tuple1[\u001b[38;5;241m1\u001b[39m]\u001b[38;5;241m=\u001b[39m\u001b[38;5;124m\"\u001b[39m\u001b[38;5;124mB\u001b[39m\u001b[38;5;124m\"\u001b[39m\n",
      "\u001b[1;31mTypeError\u001b[0m: 'tuple' object does not support item assignment"
     ]
    }
   ],
   "source": [
    "# 튜플은 추가, 수정 삭제가 불가능하다!!!!\n",
    "tuple1[1]=\"B\""
   ]
  },
  {
   "cell_type": "code",
   "execution_count": 33,
   "id": "498ad48a",
   "metadata": {},
   "outputs": [
    {
     "ename": "AttributeError",
     "evalue": "'tuple' object has no attribute 'insert'",
     "output_type": "error",
     "traceback": [
      "\u001b[1;31m---------------------------------------------------------------------------\u001b[0m",
      "\u001b[1;31mAttributeError\u001b[0m                            Traceback (most recent call last)",
      "Cell \u001b[1;32mIn[33], line 1\u001b[0m\n\u001b[1;32m----> 1\u001b[0m tuple1\u001b[38;5;241m.\u001b[39minsert(\u001b[38;5;241m3\u001b[39m,\u001b[38;5;124m\"\u001b[39m\u001b[38;5;124m4\u001b[39m\u001b[38;5;124m\"\u001b[39m)\n",
      "\u001b[1;31mAttributeError\u001b[0m: 'tuple' object has no attribute 'insert'"
     ]
    }
   ],
   "source": [
    "tuple1.insert(3,\"4\")"
   ]
  },
  {
   "cell_type": "code",
   "execution_count": 35,
   "id": "a7fd9d75",
   "metadata": {},
   "outputs": [
    {
     "ename": "AttributeError",
     "evalue": "'tuple' object has no attribute 'sort'",
     "output_type": "error",
     "traceback": [
      "\u001b[1;31m---------------------------------------------------------------------------\u001b[0m",
      "\u001b[1;31mAttributeError\u001b[0m                            Traceback (most recent call last)",
      "Cell \u001b[1;32mIn[35], line 1\u001b[0m\n\u001b[1;32m----> 1\u001b[0m tuple1\u001b[38;5;241m.\u001b[39msort()\n",
      "\u001b[1;31mAttributeError\u001b[0m: 'tuple' object has no attribute 'sort'"
     ]
    }
   ],
   "source": [
    "tuple1.sort() # 정렬은 치환의 개념이라 값을 수정하는 것이기에 튜플에는 적용X"
   ]
  },
  {
   "cell_type": "code",
   "execution_count": 34,
   "id": "7d47ff60",
   "metadata": {},
   "outputs": [
    {
     "data": {
      "text/plain": [
       "[0, 1, 2, 3, ('a', 'b', 'c'), 5]"
      ]
     },
     "execution_count": 34,
     "metadata": {},
     "output_type": "execute_result"
    }
   ],
   "source": [
    "# list로 형변환으로 가능!\n",
    "list(tuple1)"
   ]
  },
  {
   "cell_type": "code",
   "execution_count": 40,
   "id": "857dee9a",
   "metadata": {},
   "outputs": [
    {
     "data": {
      "text/plain": [
       "(0, 1, 2, 3, ['a', 'd', 'c'], 5)"
      ]
     },
     "execution_count": 40,
     "metadata": {},
     "output_type": "execute_result"
    }
   ],
   "source": [
    "# 튜플 자체는 바뀌지 않지만 튜플 안에 리스트는 바꿀 수 있다!\n",
    "# 튜플의 요소는 바꿀 수 없다!\n",
    "tuple2 = (0, 1, 2, 3, ['a', 'b', 'c'], 5)\n",
    "tuple2[4][1]='d'\n",
    "tuple2"
   ]
  },
  {
   "cell_type": "markdown",
   "id": "ca71d1ae",
   "metadata": {},
   "source": [
    "### 리스트와 튜플의 공통점과 차이점\n",
    "- 공통점\n",
    "    - 타입과 상관없이 일련의 요소들을 가질 수 있음\n",
    "    - ex_ [1,\"A\",[2,\"B\"]] || (1,A,(2,\"B\"))\n",
    "    - 요소의 순서(인덱스)를 관리한다 -> 인덱싱과 슬라이싱 가능!!\n",
    "    \n",
    "- 차이점\n",
    "    - 리스트\n",
    "        - 가변적(추가, 수정, 삭제가 가능)\n",
    "        - 요소가 몇 개 들어갈 지 명확하지 않는 경우에 사용\n",
    "    - 튜플\n",
    "        - 불변적(추가, 수정, 삭제가 불가능)\n",
    "        - 요소 개수를 사전에 명확히 알고 있을 경우에 사용"
   ]
  }
 ],
 "metadata": {
  "kernelspec": {
   "display_name": "Python 3 (ipykernel)",
   "language": "python",
   "name": "python3"
  },
  "language_info": {
   "codemirror_mode": {
    "name": "ipython",
    "version": 3
   },
   "file_extension": ".py",
   "mimetype": "text/x-python",
   "name": "python",
   "nbconvert_exporter": "python",
   "pygments_lexer": "ipython3",
   "version": "3.11.3"
  }
 },
 "nbformat": 4,
 "nbformat_minor": 5
}
