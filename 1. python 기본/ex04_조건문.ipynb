{
 "cells": [
  {
   "cell_type": "markdown",
   "id": "7dbbdac7",
   "metadata": {},
   "source": [
    "## 조건문\n",
    "- 분기문 or 조건문\n",
    "- \"상황\"에 따라 \"실행 흐름\"을 다르게 하는 문법\n",
    "- Python 조건문의 키워드 : if , elif, else\n",
    "- <b>콜론(:)과 들여쓰기(space*4 or Tab 키 )</b> 문법이 가장 중요\n",
    "    <br> cf) jupyter - html 태그 사용가능\n"
   ]
  },
  {
   "cell_type": "markdown",
   "id": "0d2fb538",
   "metadata": {},
   "source": [
    "#### if 실습 예제1\n",
    "- 조건문을 사용해서 변수 money가 10000원 이상이면 \"택시를 탄다.\"를 출력\n",
    "- 5000원이라도 가지고 있다면. \"버스를 탄다\"를 출력\n",
    "- 그게 아니라면 \"걸어간다\"를 출력"
   ]
  },
  {
   "cell_type": "code",
   "execution_count": 41,
   "id": "4370ae7e",
   "metadata": {},
   "outputs": [
    {
     "name": "stdout",
     "output_type": "stream",
     "text": [
      "뚜벅뚜벅 뚜벅초~\n"
     ]
    }
   ],
   "source": [
    "money = 500\n",
    "\n",
    "if money >=10000 :\n",
    "    print(\"택시를 탄다.\")\n",
    "elif money>=5000 :\n",
    "    print(\"버스를 탄다.\")\n",
    "else :\n",
    "    print(\"뚜벅뚜벅 뚜벅초~\")"
   ]
  },
  {
   "cell_type": "markdown",
   "id": "04dcc814",
   "metadata": {},
   "source": [
    "#### if 실습 예제 2\n",
    "- 변수 num을 입력받고 \n",
    "- num이 3의 배수이면서 5의 배수이면 \"3과 5의 배수입니다.\"를 출력\n",
    "- 아니라면 \"3과 5의 배수가 아닙니다.\"를 출력"
   ]
  },
  {
   "cell_type": "code",
   "execution_count": 2,
   "id": "1487544f",
   "metadata": {},
   "outputs": [
    {
     "name": "stdout",
     "output_type": "stream",
     "text": [
      "정수입력 >> 3\n",
      "3은 3과 5의 배수가 아닙니다.\n"
     ]
    }
   ],
   "source": [
    "num = int(input(\"정수입력 >> \"))\n",
    "\n",
    "# and (논리연산자) :True, False를 \"비교\" 하는 연산자\n",
    "# & (비트연산자) : 2진수를 계산하는 연산자\n",
    "\n",
    "if num%3==0 and num%5==0 :\n",
    "    print(f\"{num}은 3과 5의 배수입니다.\")\n",
    "else :\n",
    "    print(f\"{num}은 3과 5의 배수가 아닙니다.\")"
   ]
  },
  {
   "cell_type": "markdown",
   "id": "de218688",
   "metadata": {},
   "source": [
    "#### if 실습 예제 3\n",
    "- 봉균이는 마스크 대량 구매. 친구들에게 나눠주려고 포장지 사려고 함\n",
    "- 포장지는 '8개들이' '5개들이' 2종류가 있고 \n",
    "- '8개들이' 포장지는 비싸서 반드시 전부 채워야함\n",
    "- 포장지는 몇개 필요한가?"
   ]
  },
  {
   "cell_type": "code",
   "execution_count": 6,
   "id": "851a712e",
   "metadata": {},
   "outputs": [
    {
     "name": "stdout",
     "output_type": "stream",
     "text": [
      "마스크 개수 입력 >> 7\n",
      "필요한 8개들이 개수 : 0개 \n",
      "필요한 5개들이 개수 :2\n"
     ]
    }
   ],
   "source": [
    "mask_cnt = int(input('마스크 개수 입력 >> '))\n",
    "mask_8=mask_5=re =0\n",
    "\n",
    "if mask_cnt >= 8 :\n",
    "    mask_8=mask_cnt//8\n",
    "    mask_5=mask_cnt%8//5\n",
    "    re= mask_cnt%8%5\n",
    "    if re!=0 :\n",
    "        mask_5 += 1\n",
    "else :\n",
    "    mask_5=mask_cnt//5\n",
    "    re = mask_cnt%5\n",
    "    if re!=0:\n",
    "         mask_5 += 1\n",
    "print(f'필요한 8개들이 개수 : {mask_8}개 \\n필요한 5개들이 개수 :{mask_5}')"
   ]
  },
  {
   "cell_type": "markdown",
   "id": "7380f183",
   "metadata": {},
   "source": [
    "#### if 실습 예제 4\n",
    "- 변수 score에 점수를 입력 받아서 학점을 부여하세요\n",
    "- 100 이하 90 이상 -> A\n",
    "- 90 미만 80이상 -> B\n",
    "- 80미만 70이상 -> C\n",
    "- 70미만 60이상 -> D\n",
    "- 60미만 -> F"
   ]
  },
  {
   "cell_type": "code",
   "execution_count": 1,
   "id": "8da5223b",
   "metadata": {},
   "outputs": [
    {
     "name": "stdout",
     "output_type": "stream",
     "text": [
      "점수 입력 >> 50\n",
      "50점은 F학점 입니다.\n"
     ]
    }
   ],
   "source": [
    "score = int(input('점수 입력 >> '))\n",
    "\n",
    "\n",
    "if 100>=  score >= 90 :\n",
    "    rank=\"A\"\n",
    "elif score >= 80 :\n",
    "    rank=\"B\"\n",
    "elif score >= 70 :\n",
    "    rank=\"C\"\n",
    "elif score >= 60 :\n",
    "    rank =\"D\"\n",
    "else :\n",
    "    rank=\"F\"\n",
    "\n",
    "\n",
    "s = f'{score}점은 {rank}학점 입니다.'\n",
    "print(s)"
   ]
  }
 ],
 "metadata": {
  "kernelspec": {
   "display_name": "Python 3 (ipykernel)",
   "language": "python",
   "name": "python3"
  },
  "language_info": {
   "codemirror_mode": {
    "name": "ipython",
    "version": 3
   },
   "file_extension": ".py",
   "mimetype": "text/x-python",
   "name": "python",
   "nbconvert_exporter": "python",
   "pygments_lexer": "ipython3",
   "version": "3.11.3"
  }
 },
 "nbformat": 4,
 "nbformat_minor": 5
}
