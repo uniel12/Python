{
 "cells": [
  {
   "cell_type": "markdown",
   "id": "58e68058",
   "metadata": {},
   "source": [
    "# 마크다운\n",
    "## 마크다운\n",
    "### 마크다운\n",
    "#### 마크다운\n",
    "##### 마크다운\n",
    "- 마크다운\n",
    "    - 마크다운\n",
    "        - 마크다운\n",
    "        - 커맨드 모드에서 '3'입력"
   ]
  },
  {
   "cell_type": "markdown",
   "id": "ae532bd6",
   "metadata": {},
   "source": [
    "### 단축키 정리(커맨드 모드)\n",
    "- 커맨드모드(파란색상태)\n",
    " - Enter : 에딧모드(초록색상태)로 전환\n",
    " - a : 기존 셀 위에 셀 삽입\n",
    " - b : 기존 셀 아래에 셀 삽입\n",
    " - m : 마크다운(주석)으로 전환\n",
    " - y : 마크다운에서 코드로 전환\n",
    " - dd: 해당 셀 삭제\n",
    " - x : 잘라내기\n",
    " - 3 : 마크다운 작성"
   ]
  },
  {
   "cell_type": "markdown",
   "id": "4e38c479",
   "metadata": {},
   "source": [
    "### 단축키정리(에딧모드)\n",
    "- 에딧모드(초록색상태)\n",
    " - Esc : 커맨드모드(파란색상태)로 전환\n",
    " - Ctrl+z : 되돌리기(※ 셀 안의 내용만 가능, 지운 셀 복구 불가!!)\n",
    " - 'tap'키로 불러오기 가능!"
   ]
  },
  {
   "cell_type": "markdown",
   "id": "cd7e880e",
   "metadata": {},
   "source": [
    "### 공통단축키\n",
    "- Ctrl + Enter : 현재 셀 실행\n",
    "- Alt + Enter : 셀 실행 후 아래에 셀 삽입\n",
    "- Shift + Enter : 셀 실행 후 아래로 커서 이동"
   ]
  },
  {
   "cell_type": "markdown",
   "id": "6ed477aa",
   "metadata": {},
   "source": [
    "### 주석\n",
    "- 프로그래밍에 있어서 내용을 메모하는 기능\n",
    "- 소스코드를 더 쉽게 이해할 수 있게 만듬\n",
    "- 파이썬은 \"#\"으로 주석 기능 이용 가능"
   ]
  },
  {
   "cell_type": "code",
   "execution_count": 3,
   "id": "1aa61373",
   "metadata": {},
   "outputs": [
    {
     "data": {
      "text/plain": [
       "4"
      ]
     },
     "execution_count": 3,
     "metadata": {},
     "output_type": "execute_result"
    }
   ],
   "source": [
    "# 1더하기 3 실행\n",
    "1+3"
   ]
  },
  {
   "cell_type": "code",
   "execution_count": 6,
   "id": "c931536d",
   "metadata": {},
   "outputs": [
    {
     "data": {
      "text/plain": [
       "77"
      ]
     },
     "execution_count": 6,
     "metadata": {},
     "output_type": "execute_result"
    }
   ],
   "source": [
    "# 변수에 정수 대입해보자!\n",
    "\n",
    "# num 1 변수에 정수 13을 대입\n",
    "num1 = 13\n",
    "num1\n",
    "# num 2 변수에 정수 25를 대입\n",
    "num2 = 25\n",
    "num2\n",
    "# num2 변수에 정수 77를 대입\n",
    "num2 = 77\n",
    "num2"
   ]
  },
  {
   "cell_type": "code",
   "execution_count": 9,
   "id": "8fe021e3",
   "metadata": {},
   "outputs": [
    {
     "name": "stdout",
     "output_type": "stream",
     "text": [
      "3.14\n",
      "1.25\n"
     ]
    }
   ],
   "source": [
    "# 실수 대입\n",
    "\n",
    "# num3 변수에 실수 3.13 대입\n",
    "num3 = 3.14\n",
    "print(num3)\n",
    "# num4 변수에 실수 1.25 대입\n",
    "num4 = 1.25\n",
    "print(num4)"
   ]
  },
  {
   "cell_type": "code",
   "execution_count": 10,
   "id": "a3367374",
   "metadata": {},
   "outputs": [
    {
     "data": {
      "text/plain": [
       "3.14"
      ]
     },
     "execution_count": 10,
     "metadata": {},
     "output_type": "execute_result"
    }
   ],
   "source": [
    "num3"
   ]
  },
  {
   "cell_type": "code",
   "execution_count": 13,
   "id": "9aa009e1",
   "metadata": {},
   "outputs": [
    {
     "name": "stdout",
     "output_type": "stream",
     "text": [
      "Funny Python\n",
      "Easy Python\n"
     ]
    }
   ],
   "source": [
    "# 변수에 문자열 대입\n",
    "\n",
    "# str1 변수에 문자열 \"Funny Python\" 대입\n",
    "str1 = \"Funny Python\"\n",
    "print(str1)\n",
    "# str2 변수에 문자열 'Easy Python' 대입\n",
    "str2 = 'Easy Python'\n",
    "print(str2)"
   ]
  },
  {
   "cell_type": "markdown",
   "id": "4996be66",
   "metadata": {},
   "source": [
    "### 변수명 규칙\n",
    "- 영문자, 숫자, 언더바(_)를 사용할 수 있다.\n",
    " - 단, 영문자는 대문자와 소문자를 다르게 인식한다.(대소문자는 구분지어야 한다)\n",
    " - 숫자로 시작할 수 없다.\n",
    " - 키워드들은 사용이 불가능하다."
   ]
  },
  {
   "cell_type": "code",
   "execution_count": 15,
   "id": "f8f46f48",
   "metadata": {},
   "outputs": [
    {
     "name": "stdout",
     "output_type": "stream",
     "text": [
      "10\n",
      "20\n"
     ]
    }
   ],
   "source": [
    "number = 10\n",
    "Number = 20\n",
    "print(number)\n",
    "print(Number)"
   ]
  },
  {
   "cell_type": "code",
   "execution_count": 18,
   "id": "49a7579c",
   "metadata": {},
   "outputs": [
    {
     "ename": "SyntaxError",
     "evalue": "invalid syntax (3561294287.py, line 2)",
     "output_type": "error",
     "traceback": [
      "\u001b[1;36m  File \u001b[1;32m\"C:\\Users\\smhrd\\AppData\\Local\\Temp\\ipykernel_24112\\3561294287.py\"\u001b[1;36m, line \u001b[1;32m2\u001b[0m\n\u001b[1;33m    if = 30\u001b[0m\n\u001b[1;37m       ^\u001b[0m\n\u001b[1;31mSyntaxError\u001b[0m\u001b[1;31m:\u001b[0m invalid syntax\n"
     ]
    }
   ],
   "source": [
    "# 중요 키워드들은 사용이 불가능\n",
    "if = 30"
   ]
  },
  {
   "cell_type": "code",
   "execution_count": 19,
   "id": "d099d593",
   "metadata": {},
   "outputs": [
    {
     "data": {
      "text/plain": [
       "1"
      ]
     },
     "execution_count": 19,
     "metadata": {},
     "output_type": "execute_result"
    }
   ],
   "source": [
    "# 중요하지 않은 키워드들은 변수로 사용할 수 있으나, 해당 기능을 잃어버림\n",
    "sum = 1\n",
    "sum"
   ]
  },
  {
   "cell_type": "markdown",
   "id": "a9b24bb5",
   "metadata": {},
   "source": [
    "### 변수명 규칙 2번째(권장사항)\n",
    "- 변수명의 첫 글자는 소문자로 만들기\n",
    "- 두 가지의 단어로 변수명을 만들 경우 두 단어를 구분할 수 있게 한다\n",
    "- ex) numberList, number_list, numAdd, num_add 등"
   ]
  },
  {
   "cell_type": "code",
   "execution_count": 1,
   "id": "b4ae7e12",
   "metadata": {},
   "outputs": [
    {
     "name": "stdout",
     "output_type": "stream",
     "text": [
      "10\n",
      "15\n"
     ]
    }
   ],
   "source": [
    "# 변수 a에 10 대입, 변수 b에 15 대입\n",
    "a = 10\n",
    "b = 15\n",
    "print(a)\n",
    "print(b)"
   ]
  },
  {
   "cell_type": "code",
   "execution_count": 4,
   "id": "b9ec8dd3",
   "metadata": {},
   "outputs": [
    {
     "name": "stdout",
     "output_type": "stream",
     "text": [
      "10\n",
      "15\n"
     ]
    }
   ],
   "source": [
    "# 변수 a에 10 대입, 변수 b에 15 대입\n",
    "# 여러개 변수 할당 가능\n",
    "a, b = 10, 15\n",
    "print(a)\n",
    "print(b)"
   ]
  },
  {
   "cell_type": "code",
   "execution_count": 5,
   "id": "433a4bbd",
   "metadata": {},
   "outputs": [
    {
     "name": "stdout",
     "output_type": "stream",
     "text": [
      "python\n",
      "python\n"
     ]
    }
   ],
   "source": [
    "str1 = \"python\"\n",
    "str2 = \"python\"\n",
    "print(str1)\n",
    "print (str2)"
   ]
  },
  {
   "cell_type": "code",
   "execution_count": 7,
   "id": "e5072fce",
   "metadata": {},
   "outputs": [
    {
     "name": "stdout",
     "output_type": "stream",
     "text": [
      "python\n",
      "python\n"
     ]
    }
   ],
   "source": [
    "# python이 str2에 들어가고, str2에 들어간 값이 str1에 들어감!\n",
    "str1 = str2 = \"python\"\n",
    "print(str1)\n",
    "print(str2)"
   ]
  },
  {
   "cell_type": "code",
   "execution_count": 11,
   "id": "4bb504b9",
   "metadata": {},
   "outputs": [
    {
     "name": "stdout",
     "output_type": "stream",
     "text": [
      "300\n"
     ]
    }
   ],
   "source": [
    "# 변수 실습\n",
    "\n",
    "# 변수 x에는 100을 대입, 변수 y에는 200을 대입 후\n",
    "# 변수 sum 에는 두 변수의 합을 대입해보자\n",
    "x, y = 100, 200\n",
    "sum1 = x+y\n",
    "print(sum1)"
   ]
  }
 ],
 "metadata": {
  "kernelspec": {
   "display_name": "Python 3 (ipykernel)",
   "language": "python",
   "name": "python3"
  },
  "language_info": {
   "codemirror_mode": {
    "name": "ipython",
    "version": 3
   },
   "file_extension": ".py",
   "mimetype": "text/x-python",
   "name": "python",
   "nbconvert_exporter": "python",
   "pygments_lexer": "ipython3",
   "version": "3.11.3"
  }
 },
 "nbformat": 4,
 "nbformat_minor": 5
}
